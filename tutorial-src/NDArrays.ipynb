{
 "cells": [
  {
   "cell_type": "markdown",
   "id": "0a0072e2-c80b-4227-ab7c-a941de0cab13",
   "metadata": {},
   "source": [
    "# NDArrays tutorial\n",
    "\n",
    "The Java package _NDArrays_ aims to make it easier to handle multi-dimensional numeric arrays. The package is inspired by the high-level interface for multi-dimensional arrays provided provided by Matlab, Julia or Python's NumPy package; therefore, this tutorial presents the main features of NDArrays with parallel examples written in Matlab, Julia and Python.\n",
    "\n",
    "If you are looking for the list of functions, you can find the documentation here: https://hakkelt.github.io/NDArrays/index.html  \n",
    "The source code of the package is available here: https://github.com/hakkelt/NDArrays"
   ]
  },
  {
   "cell_type": "markdown",
   "id": "519ab139-341b-40a5-b892-170789d754eb",
   "metadata": {},
   "source": [
    "The NDArrays library is divided into three namespaces:\n",
    " - io.github.hakkelt.ndarrays: The universal interface for multi-dimensional arrays. It contains two interfaces: NDArray and ComplexNDArray.\n",
    " - io.github.hakkelt.ndarrays.basic: A simple reference implementation for the interface above. It containts multiple classes, like BasicIntegerNDArray, BasicDoubleNDArray, BasicComplexFloatNDArray, etc.\n",
    " - io.github.hakkelt.ndarrays.internal: Internal classes (you might need some of them if you want to create your own implementation for the interface)"
   ]
  },
  {
   "cell_type": "markdown",
   "id": "6d368b62-59e5-48ff-b201-0b497263755f",
   "metadata": {},
   "source": [
    "In the following, I present the main features of NDArray and ComplexNDArray interfaces through the reference implementation. This tutorial assumes that the reader is familiar with anonymous functions and streams in Java."
   ]
  },
  {
   "cell_type": "markdown",
   "id": "db5be369-58c4-40b9-89e5-4921c06e0f12",
   "metadata": {},
   "source": [
    "## Initialization"
   ]
  },
  {
   "cell_type": "code",
   "execution_count": 1,
   "id": "106bf6d4-886a-4570-83b4-74c9e10ca335",
   "metadata": {},
   "outputs": [],
   "source": [
    ">java\n",
    "%maven io.github.hakkelt:ndarrays:2.0.2\n",
    "\n",
    "import io.github.hakkelt.ndarrays.NDArray;\n",
    "import io.github.hakkelt.ndarrays.basic.BasicDoubleNDArray;\n",
    "import io.github.hakkelt.ndarrays.basic.BasicIntegerNDArray;\n",
    "import java.util.stream.IntStream;"
   ]
  },
  {
   "cell_type": "code",
   "execution_count": 1,
   "id": "222387af-a4e8-480f-b39c-d60b0cede3cb",
   "metadata": {},
   "outputs": [],
   "source": [
    ">python\n",
    "import numpy as np\n",
    "\n",
    "def print_matrix(matrix):\n",
    "    if matrix.ndim == 2:\n",
    "        print(matrix)\n",
    "    else:\n",
    "        print(matrix.transpose((2, 0, 1)))"
   ]
  },
  {
   "cell_type": "markdown",
   "id": "8e49b966-c76c-43f6-8bbc-0524a5ad2b77",
   "metadata": {
    "tags": []
   },
   "source": [
    "## Construction and initialization"
   ]
  },
  {
   "cell_type": "markdown",
   "id": "f99ccf41-4b11-4991-9966-7aad64e20638",
   "metadata": {},
   "source": [
    "### New array filled with zeros and with a constant value"
   ]
  },
  {
   "cell_type": "code",
   "execution_count": 2,
   "id": "80694a9a-e1af-46a0-ac66-7daa8077ec39",
   "metadata": {},
   "outputs": [
    {
     "name": "stdout",
     "output_type": "stream",
     "text": [
      "Array of zeros: basic NDArray<Double>(4 × 5)\n",
      "0,00000e+00\t0,00000e+00\t0,00000e+00\t0,00000e+00\t0,00000e+00\t\n",
      "0,00000e+00\t0,00000e+00\t0,00000e+00\t0,00000e+00\t0,00000e+00\t\n",
      "0,00000e+00\t0,00000e+00\t0,00000e+00\t0,00000e+00\t0,00000e+00\t\n",
      "0,00000e+00\t0,00000e+00\t0,00000e+00\t0,00000e+00\t0,00000e+00\t\n",
      "\n",
      "Array of twos: basic NDArray<Double>(4 × 5)\n",
      "2,00000e+00\t2,00000e+00\t2,00000e+00\t2,00000e+00\t2,00000e+00\t\n",
      "2,00000e+00\t2,00000e+00\t2,00000e+00\t2,00000e+00\t2,00000e+00\t\n",
      "2,00000e+00\t2,00000e+00\t2,00000e+00\t2,00000e+00\t2,00000e+00\t\n",
      "2,00000e+00\t2,00000e+00\t2,00000e+00\t2,00000e+00\t2,00000e+00\t\n",
      "\n"
     ]
    }
   ],
   "source": [
    ">java\n",
    "NDArray<Double> zeroArray = new BasicDoubleNDArray(4, 5); //# Basic NDArray initialized with zeros by default\n",
    "System.out.println(\"Array of zeros: \" + zeroArray.contentToString());\n",
    "\n",
    "NDArray<Double> twosArray = new BasicDoubleNDArray(4, 5).fill(2);\n",
    "System.out.println(\"Array of twos: \" + twosArray.contentToString())"
   ]
  },
  {
   "cell_type": "code",
   "execution_count": 1,
   "id": "dedfe38a-dceb-4778-86e6-1f5cc3ad3537",
   "metadata": {},
   "outputs": [
    {
     "name": "stdout",
     "output_type": "stream",
     "text": [
      "Array of zeros:\n",
      "\n",
      "zeroArray =\n",
      "\n",
      "     0     0     0     0     0\n",
      "     0     0     0     0     0\n",
      "     0     0     0     0     0\n",
      "     0     0     0     0     0\n",
      "\n",
      "Array of twos:\n",
      "\n",
      "twosArray =\n",
      "\n",
      "     2     2     2     2     2\n",
      "     2     2     2     2     2\n",
      "     2     2     2     2     2\n",
      "     2     2     2     2     2\n",
      "\n",
      "\n"
     ]
    }
   ],
   "source": [
    ">matlab\n",
    "disp(\"Array of zeros:\")\n",
    "zeroArray = zeros(4, 5)\n",
    "\n",
    "disp(\"Array of twos:\")\n",
    "twosArray = zeroArray; %# copy matrix\n",
    "twosArray(:) = 2;      %# assign value\n",
    "twosArray              %# print"
   ]
  },
  {
   "cell_type": "code",
   "execution_count": 2,
   "id": "11c9ccb7-4325-43b0-a6f7-800547abc622",
   "metadata": {},
   "outputs": [
    {
     "name": "stdout",
     "output_type": "stream",
     "text": [
      "Array of zeros:\n",
      "[[0. 0. 0. 0. 0.]\n",
      " [0. 0. 0. 0. 0.]\n",
      " [0. 0. 0. 0. 0.]\n",
      " [0. 0. 0. 0. 0.]]\n",
      "\n",
      "Array of twos:\n",
      "[[2. 2. 2. 2. 2.]\n",
      " [2. 2. 2. 2. 2.]\n",
      " [2. 2. 2. 2. 2.]\n",
      " [2. 2. 2. 2. 2.]]\n"
     ]
    }
   ],
   "source": [
    ">python\n",
    "print(\"Array of zeros:\")\n",
    "print_matrix(np.zeros((4, 5)))\n",
    "\n",
    "print(\"\\nArray of twos:\")\n",
    "twosArray = np.ndarray((4, 5))\n",
    "twosArray.fill(2)\n",
    "print_matrix(twosArray)"
   ]
  },
  {
   "cell_type": "code",
   "execution_count": 34,
   "id": "d9830496-6f1c-40f3-b75c-e842b4ffa05e",
   "metadata": {},
   "outputs": [
    {
     "name": "stdout",
     "output_type": "stream",
     "text": [
      "Array of zeros:"
     ]
    },
    {
     "data": {
      "text/plain": [
       "4×5 Matrix{Float64}:\n",
       " 0.0  0.0  0.0  0.0  0.0\n",
       " 0.0  0.0  0.0  0.0  0.0\n",
       " 0.0  0.0  0.0  0.0  0.0\n",
       " 0.0  0.0  0.0  0.0  0.0"
      ]
     },
     "metadata": {},
     "output_type": "display_data"
    },
    {
     "name": "stdout",
     "output_type": "stream",
     "text": [
      "\n",
      "Array of twos:"
     ]
    },
    {
     "data": {
      "text/plain": [
       "4×5 Matrix{Int64}:\n",
       " 2  2  2  2  2\n",
       " 2  2  2  2  2\n",
       " 2  2  2  2  2\n",
       " 2  2  2  2  2"
      ]
     },
     "metadata": {},
     "output_type": "display_data"
    }
   ],
   "source": [
    ">julia-1.7\n",
    "print(\"Array of zeros:\"); flush(stdout)\n",
    "zerosArray = zeros(4, 5)\n",
    "display(zerosArray)\n",
    "\n",
    "print(\"\\nArray of twos:\"); flush(stdout)\n",
    "twosArray = fill(2, size(zerosArray))\n",
    "display(twosArray)"
   ]
  },
  {
   "cell_type": "markdown",
   "id": "41123d75-6aa5-46fb-a9b7-3765bc20aed7",
   "metadata": {},
   "source": [
    "### Fill array with position dependent values based on linear indices\n",
    "\n",
    "Linear index: Index of elements imagining that the array is reshaped into a vector.  \n",
    "Column/row-major indexing:\n",
    " - In case of 2D matrices, reshaping into a vector is easiest to image as concatenation of either columns or rows. Concatenation of columns is referred to as column-major ordering, concatenation of rows is referred to as row-major ordering.\n",
    " - In case of higher dimensions, the difference it whether we start to increment the first coordinates (column-major indexing), or we start last coordinates first (row-major indexing).\n",
    " \n",
    "Note that NDArray, Matlab and Julia uses column-major ordering, while NumPy uses row-major ordering.  \n",
    "Also note that while Matlab and Julia start indexing from 1, NDArray and NumPy uses zero-based indexing."
   ]
  },
  {
   "cell_type": "code",
   "execution_count": 3,
   "id": "b75d9e91-b9d5-4a1f-b33a-7c62e4adffcb",
   "metadata": {},
   "outputs": [
    {
     "data": {
      "text/plain": [
       "basic NDArray<Double>(4 × 5)\r\n",
       "0,00000e+00\t4,00000e+00\t8,00000e+00\t1,20000e+01\t1,60000e+01\t\r\n",
       "1,00000e+00\t5,00000e+00\t9,00000e+00\t1,30000e+01\t1,70000e+01\t\r\n",
       "2,00000e+00\t6,00000e+00\t1,00000e+01\t1,40000e+01\t1,80000e+01\t\r\n",
       "3,00000e+00\t7,00000e+00\t1,10000e+01\t1,50000e+01\t1,90000e+01\t\r\n"
      ]
     },
     "execution_count": 3,
     "metadata": {},
     "output_type": "execute_result"
    }
   ],
   "source": [
    ">java\n",
    "new BasicDoubleNDArray(4, 5)                  //# create array\n",
    "    .fillUsingLinearIndices(i -> (double) i)  //# initialize\n",
    "    .contentToString()                        //# print content"
   ]
  },
  {
   "cell_type": "code",
   "execution_count": 2,
   "id": "8c877e04-afb0-43b4-8689-aab46aef9853",
   "metadata": {},
   "outputs": [
    {
     "name": "stdout",
     "output_type": "stream",
     "text": [
      "\n",
      "array =\n",
      "\n",
      "     0     4     8    12    16\n",
      "     1     5     9    13    17\n",
      "     2     6    10    14    18\n",
      "     3     7    11    15    19\n",
      "\n",
      "\n"
     ]
    }
   ],
   "source": [
    ">matlab\n",
    "array = zeros(4, 5);  %# create array\n",
    "array(:) = 0:19       %# reshape to vector, assign values, and print content"
   ]
  },
  {
   "cell_type": "code",
   "execution_count": 3,
   "id": "4ee23df9-4358-4dc8-a86d-0ae43febd758",
   "metadata": {},
   "outputs": [
    {
     "name": "stdout",
     "output_type": "stream",
     "text": [
      "[[ 0.  4.  8. 12. 16.]\n",
      " [ 1.  5.  9. 13. 17.]\n",
      " [ 2.  6. 10. 14. 18.]\n",
      " [ 3.  7. 11. 15. 19.]]\n"
     ]
    }
   ],
   "source": [
    ">python\n",
    "array = np.ndarray((4, 5))        # create array\n",
    "linearIndex = 0\n",
    "for j in range(5):\n",
    "    for i in range(4):\n",
    "        array[i,j] = linearIndex; # initialize elements separately\n",
    "        linearIndex += 1\n",
    "print_matrix(array)               # print content"
   ]
  },
  {
   "cell_type": "code",
   "execution_count": 2,
   "id": "a4cc592b-6377-4f09-9a89-33b2af67f635",
   "metadata": {},
   "outputs": [
    {
     "data": {
      "text/plain": [
       "4×5 Matrix{Float64}:\n",
       " 0.0  4.0   8.0  12.0  16.0\n",
       " 1.0  5.0   9.0  13.0  17.0\n",
       " 2.0  6.0  10.0  14.0  18.0\n",
       " 3.0  7.0  11.0  15.0  19.0"
      ]
     },
     "execution_count": 2,
     "metadata": {},
     "output_type": "execute_result"
    }
   ],
   "source": [
    ">julia-1.7\n",
    "array = zeros(4, 5) # create array\n",
    "array[:] .= 0:19    # reshape to vector and assign values\n",
    "array               # print content"
   ]
  },
  {
   "cell_type": "markdown",
   "id": "54e976a8-1a09-41fd-bd25-46dd4d15793c",
   "metadata": {},
   "source": [
    "### Fill array with position dependent values based on Cartesian indices\n",
    "\n",
    "Cartesian index: fancy name for \"usual\" indexing with separate coordinates for each dimensions."
   ]
  },
  {
   "cell_type": "code",
   "execution_count": 4,
   "id": "aba5225d-7c59-4065-b605-5d95e0b83f60",
   "metadata": {},
   "outputs": [
    {
     "data": {
      "text/plain": [
       "basic NDArray<Double>(4 × 5)\r\n",
       "0,00000e+00\t1,00000e+00\t4,00000e+00\t9,00000e+00\t1,60000e+01\t\r\n",
       "1,00000e+00\t2,00000e+00\t5,00000e+00\t1,00000e+01\t1,70000e+01\t\r\n",
       "4,00000e+00\t5,00000e+00\t8,00000e+00\t1,30000e+01\t2,00000e+01\t\r\n",
       "9,00000e+00\t1,00000e+01\t1,30000e+01\t1,80000e+01\t2,50000e+01\t\r\n"
      ]
     },
     "execution_count": 4,
     "metadata": {},
     "output_type": "execute_result"
    }
   ],
   "source": [
    ">java\n",
    "new BasicDoubleNDArray(4, 5)\n",
    "    .fillUsingCartesianIndices(idx -> (double) (idx[0] * idx[0] + idx[1] * idx[1]))\n",
    "    .contentToString()"
   ]
  },
  {
   "cell_type": "code",
   "execution_count": 3,
   "id": "a263ad58-34e5-4271-ab9a-add128703b02",
   "metadata": {},
   "outputs": [
    {
     "name": "stdout",
     "output_type": "stream",
     "text": [
      "\n",
      "array =\n",
      "\n",
      "     0     1     4     9    16\n",
      "     1     2     5    10    17\n",
      "     4     5     8    13    20\n",
      "     9    10    13    18    25\n",
      "\n",
      "\n"
     ]
    }
   ],
   "source": [
    ">matlab\n",
    "array = zeros(4, 5);\n",
    "for i = 0:3\n",
    "    for j = 0:4\n",
    "        array(i + 1, j + 1) = i*i + j*j;\n",
    "    end\n",
    "end\n",
    "array"
   ]
  },
  {
   "cell_type": "code",
   "execution_count": 4,
   "id": "839f1854-06c8-43c2-8fbf-4b2f7a3b474d",
   "metadata": {},
   "outputs": [
    {
     "name": "stdout",
     "output_type": "stream",
     "text": [
      "[[ 0.  1.  4.  9. 16.]\n",
      " [ 1.  2.  5. 10. 17.]\n",
      " [ 4.  5.  8. 13. 20.]\n",
      " [ 9. 10. 13. 18. 25.]]\n"
     ]
    }
   ],
   "source": [
    ">python\n",
    "array = np.ndarray((4, 5))\n",
    "for i in range(4):\n",
    "    for j in range(5):\n",
    "        array[i, j] = i*i + j*j\n",
    "print_matrix(array)"
   ]
  },
  {
   "cell_type": "code",
   "execution_count": 3,
   "id": "282cf273-5b69-45a6-9eb5-73f0e425a058",
   "metadata": {},
   "outputs": [
    {
     "data": {
      "text/plain": [
       "4×5 Matrix{Int64}:\n",
       " 0   1   4   9  16\n",
       " 1   2   5  10  17\n",
       " 4   5   8  13  20\n",
       " 9  10  13  18  25"
      ]
     },
     "execution_count": 3,
     "metadata": {},
     "output_type": "execute_result"
    }
   ],
   "source": [
    ">julia-1.7\n",
    "array = [i*i + j*j for i in 0:3, j in 0:4]"
   ]
  },
  {
   "cell_type": "markdown",
   "id": "6b825056-34e3-4ce3-a5e4-572b3bbc4db7",
   "metadata": {},
   "source": [
    "### Other Java-specific ways to initialize NDArrays"
   ]
  },
  {
   "cell_type": "markdown",
   "id": "66e1ab54-c143-43da-9fb2-b3fe1faa5f20",
   "metadata": {},
   "source": [
    "#### Initialize with primitive array\n",
    "\n",
    "Note that for technical reason, this initialization is done by factory methods (`.of()` static methods, so `new` keyword shall not be used)!"
   ]
  },
  {
   "cell_type": "code",
   "execution_count": 5,
   "id": "ad97d445-c48e-4f3e-ba4b-f9a3b24d2a62",
   "metadata": {},
   "outputs": [
    {
     "data": {
      "text/plain": [
       "basic NDArray<Double>(4 × 5)\r\n",
       "0,00000e+00\t1,00000e+00\t4,00000e+00\t9,00000e+00\t1,60000e+01\t\r\n",
       "1,00000e+00\t2,00000e+00\t5,00000e+00\t1,00000e+01\t1,70000e+01\t\r\n",
       "4,00000e+00\t5,00000e+00\t8,00000e+00\t1,30000e+01\t2,00000e+01\t\r\n",
       "9,00000e+00\t1,00000e+01\t1,30000e+01\t1,80000e+01\t2,50000e+01\t\r\n"
      ]
     },
     "execution_count": 5,
     "metadata": {},
     "output_type": "execute_result"
    }
   ],
   "source": [
    ">java\n",
    "int[][] data = new int[4][5];\n",
    "for (int i = 0; i < 4; i++)\n",
    "    for (int j = 0; j < 5; j++)\n",
    "        data[i][j] = i*i + j*j;\n",
    "BasicDoubleNDArray.of(data).contentToString()"
   ]
  },
  {
   "cell_type": "markdown",
   "id": "cd6ccd92-05e8-45d9-bd23-506ca03534b0",
   "metadata": {},
   "source": [
    "#### Copy constructor\n",
    "\n",
    "Usually, copy constructor is useful to convert between different types of NDArray."
   ]
  },
  {
   "cell_type": "code",
   "execution_count": 6,
   "id": "9cb1966e-abf9-4347-8739-d77ae6e1a9fb",
   "metadata": {},
   "outputs": [
    {
     "data": {
      "text/plain": [
       "basic NDArray<Integer>(4 × 5)\r\n",
       "     3\t     3\t     3\t     3\t     3\t\r\n",
       "     3\t     3\t     3\t     3\t     3\t\r\n",
       "     3\t     3\t     3\t     3\t     3\t\r\n",
       "     3\t     3\t     3\t     3\t     3\t\r\n"
      ]
     },
     "execution_count": 6,
     "metadata": {},
     "output_type": "execute_result"
    }
   ],
   "source": [
    ">java\n",
    "NDArray<Double> array1 = new BasicDoubleNDArray(4, 5).fill(3);\n",
    "NDArray<Integer> array2 = new BasicIntegerNDArray(array1); //# convert double array to int array\n",
    "array2.contentToString()"
   ]
  },
  {
   "cell_type": "markdown",
   "id": "53132820-da8a-422c-b6c2-79864a23b030",
   "metadata": {},
   "source": [
    "#### Stream collector\n",
    "\n",
    "Sometimes, NDArray collectors might be a little tricky. For instance, in the following code `BasicDoubleNDArray.getCollector(4, 5)` is capable of receiving only `Double` values, so first we need to convert `int` to `double` (`mapToDouble`, and `(double)` casting), and the `double` to `Double` (hence we need `boxed()`). Usually there are more convenient alternatives, but it can be handy when we want to both transform the data and change its type (like squaring integers (transformation) and casting them to double)."
   ]
  },
  {
   "cell_type": "code",
   "execution_count": 7,
   "id": "9380ec98-a99c-4ff6-819e-40477804921e",
   "metadata": {},
   "outputs": [
    {
     "data": {
      "text/plain": [
       "basic NDArray<Double>(4 × 5)\r\n",
       "0,00000e+00\t1,60000e+01\t6,40000e+01\t1,44000e+02\t2,56000e+02\t\r\n",
       "1,00000e+00\t2,50000e+01\t8,10000e+01\t1,69000e+02\t2,89000e+02\t\r\n",
       "4,00000e+00\t3,60000e+01\t1,00000e+02\t1,96000e+02\t3,24000e+02\t\r\n",
       "9,00000e+00\t4,90000e+01\t1,21000e+02\t2,25000e+02\t3,61000e+02\t\r\n"
      ]
     },
     "execution_count": 7,
     "metadata": {},
     "output_type": "execute_result"
    }
   ],
   "source": [
    ">java\n",
    "NDArray<Double> array = IntStream.range(0, 20)\n",
    "    .mapToDouble(i -> (double) (i *  i))\n",
    "    .boxed()\n",
    "    .collect(BasicDoubleNDArray.getCollector(4, 5));\n",
    "array.contentToString()"
   ]
  },
  {
   "cell_type": "markdown",
   "id": "af5b12ec-9f5a-46ad-b375-7b149e1854ca",
   "metadata": {},
   "source": [
    "## Basic operations\n",
    "\n",
    "### Get and set values\n",
    "\n",
    "Please, be aware that Matlab and Julia start indexing at 1, while NDArrays and NumPy are using zero-based indexing!"
   ]
  },
  {
   "cell_type": "code",
   "execution_count": 149,
   "id": "7a4ac326-fafd-4eec-a064-d04678c914ae",
   "metadata": {},
   "outputs": [
    {
     "name": "stdout",
     "output_type": "stream",
     "text": [
      "basic NDArray<Double>(4 × 5)\n",
      "0,00000e+00\t5,00000e+00\t-1,00000e+00\t0,00000e+00\t0,00000e+00\t\n",
      "0,00000e+00\t0,00000e+00\t0,00000e+00\t0,00000e+00\t0,00000e+00\t\n",
      "0,00000e+00\t0,00000e+00\t0,00000e+00\t0,00000e+00\t0,00000e+00\t\n",
      "0,00000e+00\t0,00000e+00\t0,00000e+00\t0,00000e+00\t0,00000e+00\t\n",
      "\n",
      "Element at [0,1]: 5,00000\n",
      "Element at linear index 8: -1,00000"
     ]
    }
   ],
   "source": [
    ">java\n",
    "NDArray<Double> array = new BasicDoubleNDArray(4, 5);\n",
    "array.set(5, 0, 1);    //# Cartesian indexing starting from 0\n",
    "array.set(-1, 8);      //# linear indexing starting from 0\n",
    "\n",
    "System.out.println(array.contentToString());\n",
    "System.out.format(\"Element at [0,1]: %g%n\", array.get(0, 1));\n",
    "System.out.format(\"Element at linear index 8: %g\", array.get(8));"
   ]
  },
  {
   "cell_type": "code",
   "execution_count": 4,
   "id": "ed4af532-e4b9-482d-a6b6-a03c306ed684",
   "metadata": {},
   "outputs": [
    {
     "name": "stdout",
     "output_type": "stream",
     "text": [
      "\n",
      "array =\n",
      "\n",
      "     0     5    -1     0     0\n",
      "     0     0     0     0     0\n",
      "     0     0     0     0     0\n",
      "     0     0     0     0     0\n",
      "\n",
      "Element at [1,2]: 5Element at linear index 9: -1\n"
     ]
    }
   ],
   "source": [
    ">matlab\n",
    "array = zeros(4, 5);\n",
    "array(1, 2) = 5;     %# Cartesian indexing starting from 1\n",
    "array(9) = -1;       %# linear indexing starting from 1\n",
    "array\n",
    "fprintf(\"Element at [1,2]: %d\", array(1,2))\n",
    "fprintf(\"Element at linear index 9: %d\", array(9))"
   ]
  },
  {
   "cell_type": "code",
   "execution_count": 5,
   "id": "287c3c15-a4a1-4c7c-b6d7-57d60d45dd73",
   "metadata": {},
   "outputs": [
    {
     "name": "stdout",
     "output_type": "stream",
     "text": [
      "[[ 0.  5. -1.  0.  0.]\n",
      " [ 0.  0.  0.  0.  0.]\n",
      " [ 0.  0.  0.  0.  0.]\n",
      " [ 0.  0.  0.  0.  0.]]\n",
      "Element at [0,1]: 5.0\n",
      "Element at linear index 2: -1.0\n"
     ]
    }
   ],
   "source": [
    ">python\n",
    "array = np.zeros((4, 5))\n",
    "array[0, 1] = 5          # Cartesian indexing starting from 0\n",
    "array.flat[2] = -1       # Linear indexing starting from 0 (row-major indexing!)\n",
    "print_matrix(array)\n",
    "print(f'Element at [0,1]: {array[0, 1]}\\nElement at linear index 2: {array.flat[2]}')"
   ]
  },
  {
   "cell_type": "code",
   "execution_count": 4,
   "id": "12eb64c4-81b4-450e-b405-1854e90bc534",
   "metadata": {},
   "outputs": [
    {
     "data": {
      "text/plain": [
       "4×5 Matrix{Float64}:\n",
       " 0.0  5.0  -1.0  0.0  0.0\n",
       " 0.0  0.0   0.0  0.0  0.0\n",
       " 0.0  0.0   0.0  0.0  0.0\n",
       " 0.0  0.0   0.0  0.0  0.0"
      ]
     },
     "metadata": {},
     "output_type": "display_data"
    },
    {
     "name": "stdout",
     "output_type": "stream",
     "text": [
      "Element at [1,2]: 5.0\n",
      "Element at linear index #9: -1.0\n"
     ]
    }
   ],
   "source": [
    ">julia-1.7\n",
    "array = zeros(4, 5)\n",
    "array[1,2] = 5      # Cartesian indexing starting from 1\n",
    "array[9] = -1       # Linear indexing starting from 1\n",
    "display(array)\n",
    "println(\"Element at [1,2]: $(array[1,2])\\nElement at linear index #9: $(array[9])\")"
   ]
  },
  {
   "cell_type": "markdown",
   "id": "890050f7-e628-4da0-8745-d3c2f7d9e9d9",
   "metadata": {},
   "source": [
    "### Read matrix meta data"
   ]
  },
  {
   "cell_type": "code",
   "execution_count": 9,
   "id": "9374db84-d87a-4def-b458-89ead45ecfc8",
   "metadata": {},
   "outputs": [
    {
     "name": "stdout",
     "output_type": "stream",
     "text": [
      "Is the type of array elements double? true\n",
      "Name of the type of array elements: Double\n",
      "Number of dimensions: 3\n",
      "Shape of array: 4 × 5 × 3\n",
      "Shape of array: 4 × 5 × 3\n",
      "Number of elements in the array: 60\n",
      "String representation of array: basic NDArray<Double>(4 × 5 × 3)\n"
     ]
    }
   ],
   "source": [
    ">java\n",
    "NDArray<Double> array = new BasicDoubleNDArray(4, 5, 3);\n",
    "System.out.println(\"Is the type of array elements double? \" + (Double.class == array.dtype()));\n",
    "System.out.println(\"Name of the type of array elements: \" + array.dataTypeAsString());\n",
    "System.out.println(\"Number of dimensions: \" + array.ndim());\n",
    "int[] shape = array.shape();\n",
    "System.out.format(\"Shape of array: %d × %d × %d%n\", shape[0], shape[1], shape[2]);\n",
    "System.out.format(\"Shape of array: %d × %d × %d%n\", array.shape(0), array.shape(1), array.shape(2));\n",
    "System.out.println(\"Number of elements in the array: \" + array.length());\n",
    "System.out.println(\"String representation of array: \" + array.toString());"
   ]
  },
  {
   "cell_type": "code",
   "execution_count": 5,
   "id": "32d9f85b-e2d4-497b-aa28-36c21a5afba0",
   "metadata": {},
   "outputs": [
    {
     "name": "stdout",
     "output_type": "stream",
     "text": [
      "Is the type of array elements double? true\n",
      "Name of the type of array elements: double\n",
      "Number of dimensions: 3\n",
      "Shape of array: [4 5 3]\n",
      "Number of elements in the array: 60\n",
      "\n"
     ]
    }
   ],
   "source": [
    ">matlab\n",
    "array = zeros(4, 5, 3);\n",
    "fprintf(\"Is the type of array elements double? \");\n",
    "if isa(array, \"double\")\n",
    "    fprintf(\"true\\n\")\n",
    "else\n",
    "    fprintf(\"false\\n\")\n",
    "end\n",
    "fprintf(\"Name of the type of array elements: %s\\n\", class(array))\n",
    "fprintf(\"Number of dimensions: %d\\n\", ndims(array))\n",
    "fprintf(\"Shape of array: %s\\n\", mat2str(size(array)))\n",
    "fprintf(\"Number of elements in the array: %d\\n\", numel(array))"
   ]
  },
  {
   "cell_type": "code",
   "execution_count": 6,
   "id": "dd67565c-5507-4c9b-a32d-ddec061f5ec0",
   "metadata": {},
   "outputs": [
    {
     "name": "stdout",
     "output_type": "stream",
     "text": [
      "Is the type of array elements double? True\n",
      "Name of the type of array elements: float64\n",
      "Number of dimensions: 3\n",
      "Shape of array: 4 × 5 × 3\n",
      "Number of elements in the array: 60\n"
     ]
    }
   ],
   "source": [
    ">python\n",
    "array = np.zeros((4, 5, 3))\n",
    "print(\"Is the type of array elements double?\", np.float64 == array.dtype)\n",
    "print(\"Name of the type of array elements:\", array.dtype)\n",
    "print(\"Number of dimensions:\", array.ndim)\n",
    "print(\"Shape of array:\", \" × \".join(map(str, array.shape)))\n",
    "print(\"Number of elements in the array:\", len(array.flat))"
   ]
  },
  {
   "cell_type": "code",
   "execution_count": 38,
   "id": "fba1b85e-a4d8-4190-adf6-b679ce2bd2ac",
   "metadata": {},
   "outputs": [
    {
     "name": "stdout",
     "output_type": "stream",
     "text": [
      "Is the type of array elements double? true\n",
      "Name of the type of array elements: Float64\n",
      "Number of dimensions: 3\n",
      "Shape of array: 4 × 5 × 3\n",
      "Number of elements in the array: 60\n"
     ]
    }
   ],
   "source": [
    ">julia-1.7\n",
    "array = zeros(4, 5, 3)\n",
    "println(\"Is the type of array elements double? \", Float64 == eltype(array))\n",
    "println(\"Name of the type of array elements: \", eltype(array))\n",
    "println(\"Number of dimensions: \", ndims(array))\n",
    "println(\"Shape of array: \", join(size(array), \" × \"))\n",
    "println(\"Number of elements in the array: \", length(array))"
   ]
  },
  {
   "cell_type": "markdown",
   "id": "114e91a8-7591-4385-b9da-f258c76c675a",
   "metadata": {},
   "source": [
    "### Iterate over elements"
   ]
  },
  {
   "cell_type": "code",
   "execution_count": 10,
   "id": "3c72a9ba-c999-4f58-8779-45796efbc02b",
   "metadata": {},
   "outputs": [
    {
     "name": "stdout",
     "output_type": "stream",
     "text": [
      "For-each loop:\n",
      "0.0\n",
      "1.0\n",
      "2.0\n",
      "3.0\n",
      "4.0\n",
      "5.0\n",
      "6.0\n",
      "7.0\n",
      "8.0\n"
     ]
    }
   ],
   "source": [
    ">java\n",
    "NDArray<Double> array = new BasicDoubleNDArray(3,3).fillUsingLinearIndices(i -> (double) i);\n",
    "\n",
    "System.out.println(\"For-each loop:\");\n",
    "for (var elem : array)\n",
    "    System.out.println(elem);"
   ]
  },
  {
   "cell_type": "code",
   "execution_count": 11,
   "id": "3ae5ce55-1402-4154-bfe2-66b75eac2db0",
   "metadata": {},
   "outputs": [
    {
     "name": "stdout",
     "output_type": "stream",
     "text": [
      "\n",
      "Sequential stream:\n",
      "0.0\n",
      "1.0\n",
      "2.0\n",
      "3.0\n",
      "4.0\n",
      "5.0\n",
      "6.0\n",
      "7.0\n",
      "8.0\n",
      "\n",
      "Parallel stream:\n",
      "5.0\n",
      "0.0\n",
      "3.0\n",
      "8.0\n",
      "1.0\n",
      "6.0\n",
      "7.0\n",
      "2.0\n",
      "4.0\n"
     ]
    }
   ],
   "source": [
    ">java\n",
    "System.out.println(\"\\nSequential stream:\");\n",
    "array.stream().forEach(System.out::println);\n",
    "\n",
    "System.out.println(\"\\nParallel stream:\");\n",
    "array.parallelStream().forEach(System.out::println); // parallelStream() == stream().parallel()"
   ]
  },
  {
   "cell_type": "code",
   "execution_count": 12,
   "id": "7f76c5a4-5a70-451a-beea-20b2ddfaacf0",
   "metadata": {},
   "outputs": [
    {
     "name": "stdout",
     "output_type": "stream",
     "text": [
      "\n",
      "Parallel forEach:\n",
      "5.0\n",
      "4.0\n",
      "1.0\n",
      "8.0\n",
      "3.0\n",
      "2.0\n",
      "0.0\n",
      "7.0\n",
      "6.0\n",
      "\n",
      "Parallel forEachWithCartesianIndices:\n",
      "[1,1]: 4,0\n",
      "[2,0]: 2,0\n",
      "[1,2]: 7,0\n",
      "[2,1]: 5,0\n",
      "[0,0]: 0,0\n",
      "[1,0]: 1,0\n",
      "[0,1]: 3,0\n",
      "[0,2]: 6,0\n",
      "[2,2]: 8,0\n",
      "\n",
      "Parallel forEachWithLinearIndices:\n",
      "#5: 5,0\n",
      "#6: 6,0\n",
      "#8: 8,0\n",
      "#3: 3,0\n",
      "#1: 1,0\n",
      "#7: 7,0\n",
      "#4: 4,0\n",
      "#2: 2,0\n",
      "#0: 0,0\n"
     ]
    }
   ],
   "source": [
    ">java\n",
    "//# Note that these are all parallel operations!\n",
    "\n",
    "System.out.println(\"\\nParallel forEach:\");\n",
    "array.forEach(System.out::println);\n",
    "\n",
    "System.out.println(\"\\nParallel forEachWithCartesianIndices:\");\n",
    "array.forEachWithCartesianIndices((value, idx) -> System.out.format(\"[%d,%d]: %.1f%n\", idx[0], idx[1], value));\n",
    "\n",
    "System.out.println(\"\\nParallel forEachWithLinearIndices:\");\n",
    "array.forEachWithLinearIndices((value, idx) -> System.out.format(\"#%d: %.1f%n\", idx, value));"
   ]
  },
  {
   "cell_type": "code",
   "execution_count": 6,
   "id": "7d3fb444-ef2d-41db-9fe4-5e89bf0b5092",
   "metadata": {},
   "outputs": [
    {
     "name": "stdout",
     "output_type": "stream",
     "text": [
      "Sequential loop\n",
      "1\n",
      "4\n",
      "7\n",
      "2\n",
      "5\n",
      "8\n",
      "3\n",
      "6\n",
      "9\n",
      "\n",
      "Parallel loop:\n",
      "[1,3]: 7\n",
      "[3,3]: 9\n",
      "[2,3]: 8\n",
      "[1,2]: 4\n",
      "[3,2]: 6\n",
      "[2,2]: 5\n",
      "[1,1]: 1\n",
      "[3,1]: 3\n",
      "[2,1]: 2\n",
      "\n"
     ]
    }
   ],
   "source": [
    ">matlab\n",
    "array = reshape(1:9, 3, 3);\n",
    "\n",
    "disp(\"Sequential loop\")\n",
    "for i = 1:3\n",
    "    for j = 1:3\n",
    "        disp(num2str(array(i,j)))\n",
    "    end\n",
    "end\n",
    "\n",
    "fprintf(\"\\nParallel loop:\\n\")\n",
    "parfor idx = 1:9\n",
    "    i = mod(idx, 3) + 1;\n",
    "    j = ceil(idx / 3);\n",
    "    fprintf(\"[%d,%d]: %d\\n\", i, j, array(i,j))\n",
    "end"
   ]
  },
  {
   "cell_type": "code",
   "execution_count": 7,
   "id": "1e9cb9b0-119d-4a16-bcc7-e2d869b6aefd",
   "metadata": {},
   "outputs": [
    {
     "name": "stdout",
     "output_type": "stream",
     "text": [
      "1\n",
      "2\n",
      "3\n",
      "4\n",
      "5\n",
      "6\n",
      "7\n",
      "8\n",
      "9\n"
     ]
    }
   ],
   "source": [
    ">python\n",
    "array = np.arange(1, 10).reshape((3,3))\n",
    "for elem in array.flat:\n",
    "    print(elem)\n",
    "\n",
    "# As far as I know one can parallelize python/numpy operations only with the help of external libraries"
   ]
  },
  {
   "cell_type": "code",
   "execution_count": 6,
   "id": "9629ecde-3702-4806-8cce-15e5056fa49f",
   "metadata": {},
   "outputs": [
    {
     "name": "stdout",
     "output_type": "stream",
     "text": [
      "Sequential for-each:\n",
      "1\n",
      "2\n",
      "3\n",
      "4\n",
      "5\n",
      "6\n",
      "7\n",
      "8\n",
      "9\n",
      "\n",
      "Parallel for-each:\n",
      "[3,1]: 3\n",
      "[3,2]: 6\n",
      "[2,2]: 5\n",
      "[2,1]: 2\n",
      "[1,1]: 1\n",
      "[3,3]: 9\n",
      "[2,3]: 8\n",
      "[1,3]: 7\n",
      "[1,2]: 4\n"
     ]
    }
   ],
   "source": [
    ">julia-1.7\n",
    "array = collect(reshape(1:9, 3, 3))\n",
    "\n",
    "println(\"Sequential for-each:\")\n",
    "for elem in array\n",
    "    println(elem)\n",
    "end\n",
    "\n",
    "println(\"\\nParallel for-each:\")\n",
    "Threads.@threads for idx in CartesianIndices(array)\n",
    "    println(\"[$(idx[1]),$(idx[2])]: $(array[idx])\")\n",
    "end"
   ]
  },
  {
   "cell_type": "markdown",
   "id": "ace26a8d-98e2-46e9-acfe-746a3f2484fd",
   "metadata": {},
   "source": [
    "### Piecewise mapping/transformation\n",
    "\n",
    "Mapping creates a new array and leaves the original intact, while transformation modifies the original array.\n",
    "\n",
    "Keep in mind that both mapping and transformation runs in parallel, so the anonymous functions given as parameters MUST NOT change variables outside of the function body. In exchange, these operations will be much faster then conventional solutions (for loop + fetch + transform + set) both because they are parallelized and because no boundary checks are needed when fetching/setting elements."
   ]
  },
  {
   "cell_type": "code",
   "execution_count": 13,
   "id": "ade75ec5-6818-44d1-8baa-446f55cc91be",
   "metadata": {
    "tags": []
   },
   "outputs": [
    {
     "name": "stdout",
     "output_type": "stream",
     "text": [
      "New array created by mapping: basic NDArray<Integer>(3 × 4)\n",
      "     0\t     9\t    36\t    81\t\n",
      "     1\t    16\t    49\t   100\t\n",
      "     4\t    25\t    64\t   121\t\n",
      "\n",
      "Another array created by mapping: basic NDArray<Integer>(3 × 4)\n",
      "     0\t     9\t     6\t    81\t\n",
      "     1\t     4\t    49\t    10\t\n",
      "     2\t    25\t     8\t   121\t\n",
      "\n",
      "Original array after transformation: basic NDArray<Integer>(3 × 4)\n",
      "     0\t    27\t   216\t   729\t\n",
      "     1\t    64\t   343\t  1000\t\n",
      "     8\t   125\t   512\t  1331\t\n",
      "\n",
      "Original array after the second transformation: basic NDArray<Integer>(3 × 4)\n",
      "     0\t     0\t   216\t     0\t\n",
      "     1\t     0\t   343\t     0\t\n",
      "     8\t     0\t   512\t     0\t\n",
      "\n"
     ]
    }
   ],
   "source": [
    ">java\n",
    "NDArray<Integer> array = new BasicIntegerNDArray(3, 4).fillUsingLinearIndices(i -> i);\n",
    "\n",
    "//# The conventional, non-parallel solution looks like this:\n",
    "NDArray<Integer> conventionallySquared = new BasicIntegerNDArray(3, 4);\n",
    "for (int i = 0; i < array.length(); i++) {\n",
    "    int elem = array.get(i);                   //# fetch\n",
    "    int transformed = elem * elem;             //# transform\n",
    "    conventionallySquared.set(transformed, i); //# set\n",
    "}\n",
    "\n",
    "NDArray<Integer> squared = array.map(elem -> elem * elem);\n",
    "System.out.println(\"New array created by mapping: \" + squared.contentToString());\n",
    "\n",
    "NDArray<Integer> squared2 = array.mapWithLinearIndices((elem, i) -> i % 2 == 0 ? elem : elem * elem);\n",
    "System.out.println(\"Another array created by mapping: \" + squared2.contentToString());\n",
    "\n",
    "array.apply(elem -> elem * elem * elem);\n",
    "System.out.println(\"Original array after transformation: \" + array.contentToString());\n",
    "\n",
    "array.applyWithCartesianIndices((elem, idx) -> idx[1] % 2 == 0 ? elem : 0);\n",
    "System.out.println(\"Original array after the second transformation: \" + array.contentToString());"
   ]
  },
  {
   "cell_type": "code",
   "execution_count": 7,
   "id": "087ba117-8701-49c0-92b8-a560c45f8741",
   "metadata": {},
   "outputs": [
    {
     "name": "stdout",
     "output_type": "stream",
     "text": [
      "New array created by mapping:\n",
      "     0     9    36    81\n",
      "     1    16    49   100\n",
      "     4    25    64   121\n",
      "\n",
      "Another array created by mapping:\n",
      "     0     9     6    81\n",
      "     1     4    49    10\n",
      "     2    25     8   121\n",
      "\n",
      "Original array after transformation:\n",
      "           0          27         216         729\n",
      "           1          64         343        1000\n",
      "           8         125         512        1331\n",
      "\n",
      "Original array after the second transformation:\n",
      "     0     0   216     0\n",
      "     1     0   343     0\n",
      "     8     0   512     0\n",
      "\n",
      "\n"
     ]
    }
   ],
   "source": [
    ">matlab\n",
    "array = reshape(0:11, 3, 4);\n",
    "\n",
    "squared = array .^ 2;\n",
    "disp(\"New array created by mapping:\")\n",
    "disp(squared)\n",
    "\n",
    "squared2 = array; %# create a copy\n",
    "squared2(2:2:end) = array(2:2:end) .^ 2;\n",
    "disp(\"Another array created by mapping:\")\n",
    "disp(squared2)\n",
    "\n",
    "array = array .^ 3;\n",
    "disp(\"Original array after transformation:\")\n",
    "disp(array)\n",
    "\n",
    "array(:,2:2:end) = 0;\n",
    "disp(\"Original array after the second transformation:\")\n",
    "disp(array)"
   ]
  },
  {
   "cell_type": "code",
   "execution_count": 8,
   "id": "afbd59c3-4fbc-4859-91a3-5f2bab70dd54",
   "metadata": {},
   "outputs": [
    {
     "name": "stdout",
     "output_type": "stream",
     "text": [
      "New array created by mapping:\n",
      "[[  0   9  36  81]\n",
      " [  1  16  49 100]\n",
      " [  4  25  64 121]]\n",
      "\n",
      "Another array created by mapping:\n",
      "[[  0   9   6  81]\n",
      " [  1  16   7 100]\n",
      " [  2  25   8 121]]\n",
      "\n",
      "Original array after transformation:\n",
      "[[   0   27  216  729]\n",
      " [   1   64  343 1000]\n",
      " [   8  125  512 1331]]\n",
      "\n",
      "Original array after the second transformation:\n",
      "[[   0   27  216  729]\n",
      " [   0    0    0    0]\n",
      " [   8  125  512 1331]]\n"
     ]
    }
   ],
   "source": [
    ">python\n",
    "array = np.arange(0, 12).reshape((4,3)).T\n",
    "\n",
    "print(\"New array created by mapping:\")\n",
    "squared = array ** 2\n",
    "print_matrix(squared)\n",
    "\n",
    "print(\"\\nAnother array created by mapping:\")\n",
    "squared2 = array.copy(); # create a copy\n",
    "squared2.flat[1::2] = array.flat[1::2] ** 2\n",
    "print_matrix(squared2)\n",
    "\n",
    "print(\"\\nOriginal array after transformation:\")\n",
    "array **= 3\n",
    "print_matrix(array)\n",
    "\n",
    "array.T[:,1::2] = 0\n",
    "print(\"\\nOriginal array after the second transformation:\")\n",
    "print_matrix(array)"
   ]
  },
  {
   "cell_type": "code",
   "execution_count": 7,
   "id": "80833d50-e013-48c9-9c57-118d80aa7cc3",
   "metadata": {},
   "outputs": [
    {
     "name": "stdout",
     "output_type": "stream",
     "text": [
      "New array created by mapping:"
     ]
    },
    {
     "data": {
      "text/plain": [
       "3×4 Matrix{Int64}:\n",
       " 0   9  36   81\n",
       " 1  16  49  100\n",
       " 4  25  64  121"
      ]
     },
     "metadata": {},
     "output_type": "display_data"
    },
    {
     "name": "stdout",
     "output_type": "stream",
     "text": [
      "\n",
      "Another array created by mapping:"
     ]
    },
    {
     "data": {
      "text/plain": [
       "3×4 Matrix{Int64}:\n",
       " 0   9   6   81\n",
       " 1   4  49   10\n",
       " 2  25   8  121"
      ]
     },
     "metadata": {},
     "output_type": "display_data"
    },
    {
     "name": "stdout",
     "output_type": "stream",
     "text": [
      "\n",
      "Original array after transformation:"
     ]
    },
    {
     "data": {
      "text/plain": [
       "3×4 Matrix{Int64}:\n",
       " 0   27  216   729\n",
       " 1   64  343  1000\n",
       " 8  125  512  1331"
      ]
     },
     "metadata": {},
     "output_type": "display_data"
    },
    {
     "name": "stdout",
     "output_type": "stream",
     "text": [
      "\n",
      "Original array after the second transformation:"
     ]
    },
    {
     "data": {
      "text/plain": [
       "3×4 Matrix{Int64}:\n",
       " 0  0  216  0\n",
       " 1  0  343  0\n",
       " 8  0  512  0"
      ]
     },
     "metadata": {},
     "output_type": "display_data"
    }
   ],
   "source": [
    ">julia-1.7\n",
    "array = collect(reshape(0:11, 3, 4));\n",
    "\n",
    "squared = array .^ 2;\n",
    "print(\"New array created by mapping:\"); flush(stdout)\n",
    "display(squared)\n",
    "\n",
    "squared2 = [i % 2 == 1 ? elem : elem * elem for (i, elem) in enumerate(array)]\n",
    "print(\"\\nAnother array created by mapping:\"); flush(stdout)\n",
    "display(squared2)\n",
    "\n",
    "array .^= 3;\n",
    "print(\"\\nOriginal array after transformation:\"); flush(stdout)\n",
    "display(array)\n",
    "\n",
    "array[:,2:2:end] .= 0;\n",
    "print(\"\\nOriginal array after the second transformation:\"); flush(stdout)\n",
    "display(array)"
   ]
  },
  {
   "cell_type": "markdown",
   "id": "4de6e335-89ec-41b1-b065-134001710c1c",
   "metadata": {},
   "source": [
    "## Views\n",
    "\n",
    "Views are basically wrappers around the original data structure. They are lazy: they don't perform any operations (i.e., don't copy data), instead they reference the specified region its parent array. Therefore, all modifications in the parent array are reflected in the view, and vice versa."
   ]
  },
  {
   "cell_type": "markdown",
   "id": "71678d3c-9b1d-47fb-ad4f-603a3e9c553d",
   "metadata": {},
   "source": [
    "### Slice\n",
    "\n",
    "They reference their parent array giving read-write access to a specific multi-dimensional slice of the parent array."
   ]
  },
  {
   "cell_type": "markdown",
   "id": "31a767d7-dc90-42f8-9f2b-bff7bb100fe1",
   "metadata": {},
   "source": [
    "#### Basic usage"
   ]
  },
  {
   "cell_type": "code",
   "execution_count": 14,
   "id": "895b3c8c-99eb-4b0c-b1e4-2471b1dde840",
   "metadata": {},
   "outputs": [
    {
     "name": "stdout",
     "output_type": "stream",
     "text": [
      "Original array: basic NDArray<Integer>(4 × 5 × 2)\n",
      "[:, :, 0] =\n",
      "     0\t     4\t     8\t    12\t    16\t\n",
      "     1\t     5\t     9\t    13\t    17\t\n",
      "     2\t     6\t    10\t    14\t    18\t\n",
      "     3\t     7\t    11\t    15\t    19\t\n",
      "\n",
      "[:, :, 1] =\n",
      "    20\t    24\t    28\t    32\t    36\t\n",
      "    21\t    25\t    29\t    33\t    37\t\n",
      "    22\t    26\t    30\t    34\t    38\t\n",
      "    23\t    27\t    31\t    35\t    39\t\n",
      "\n",
      "\n",
      "Slice: basic NDArrayView<Integer>(2 × 3)\n",
      "     2\t    10\t    18\t\n",
      "     3\t    11\t    19\t\n",
      "\n",
      "Original array after modifying the slice: basic NDArray<Integer>(4 × 5 × 2)\n",
      "[:, :, 0] =\n",
      "     0\t     4\t     8\t    12\t    16\t\n",
      "     1\t     5\t     9\t    13\t    17\t\n",
      "    -1\t     6\t    -1\t    14\t    -1\t\n",
      "    -1\t     7\t    -1\t    15\t    -1\t\n",
      "\n",
      "[:, :, 1] =\n",
      "    20\t    24\t    28\t    32\t    36\t\n",
      "    21\t    25\t    29\t    33\t    37\t\n",
      "    22\t    26\t    30\t    34\t    38\t\n",
      "    23\t    27\t    31\t    35\t    39\t\n",
      "\n",
      "\n"
     ]
    }
   ],
   "source": [
    ">java\n",
    "import io.github.hakkelt.ndarrays.Range;\n",
    "\n",
    "NDArray<Integer> array = new BasicIntegerNDArray(4, 5, 2).fillUsingLinearIndices(i -> i);\n",
    "System.out.println(\"Original array: \" + array.contentToString());\n",
    "\n",
    "//# Select rows #2 and #3, every second column, and only the first matrix along the third axis\n",
    "//# Constructor of Range class takes the start index, and the exclusive end index of the range.\n",
    "//# Optionally, it can also take the step size as the second parameter (see: new Range(0, 2, 5))\n",
    "NDArray<Integer> slice = array.slice(new Range(2,4), new Range(0, 2, 5), 0);\n",
    "//# Alternatively, for fixed ranges, we can use string literals:\n",
    "slice = array.slice(\"2:4\", \"0:2:5\", 0);\n",
    "System.out.println(\"Slice: \" + slice.contentToString());\n",
    "\n",
    "//# Modifications to the slice are reflected in the parent array!\n",
    "slice.fill(-1);\n",
    "System.out.println(\"Original array after modifying the slice: \" + array.contentToString());"
   ]
  },
  {
   "cell_type": "code",
   "execution_count": 8,
   "id": "f5b79edc-b6ed-4e3c-9ee1-3f5bbb4dc3fa",
   "metadata": {},
   "outputs": [
    {
     "name": "stdout",
     "output_type": "stream",
     "text": [
      "Original array:\n",
      "\n",
      "array(:,:,1) =\n",
      "\n",
      "     0     4     8    12    16\n",
      "     1     5     9    13    17\n",
      "     2     6    10    14    18\n",
      "     3     7    11    15    19\n",
      "\n",
      "\n",
      "array(:,:,2) =\n",
      "\n",
      "    20    24    28    32    36\n",
      "    21    25    29    33    37\n",
      "    22    26    30    34    38\n",
      "    23    27    31    35    39\n",
      "\n",
      "\n",
      "slice =\n",
      "\n",
      "     2    10    18\n",
      "     3    11    19\n",
      "\n",
      "\n",
      "\n",
      "Original array after modifying the slice:\n",
      "\n",
      "array(:,:,1) =\n",
      "\n",
      "     0     4     8    12    16\n",
      "     1     5     9    13    17\n",
      "    -1     6    -1    14    -1\n",
      "    -1     7    -1    15    -1\n",
      "\n",
      "\n",
      "array(:,:,2) =\n",
      "\n",
      "    20    24    28    32    36\n",
      "    21    25    29    33    37\n",
      "    22    26    30    34    38\n",
      "    23    27    31    35    39\n",
      "\n",
      "\n"
     ]
    }
   ],
   "source": [
    ">matlab\n",
    "disp(\"Original array:\")\n",
    "array = reshape(0:39, 4, 5, 2)\n",
    "slice = array(3:4, 1:2:5, 1)\n",
    "\n",
    "%# Let's modify the slice!\n",
    "array(3:4, 1:2:5, 1) = -1;\n",
    "fprintf(\"\\n\\nOriginal array after modifying the slice:\\n\")\n",
    "array"
   ]
  },
  {
   "cell_type": "code",
   "execution_count": 9,
   "id": "2788b481-cf5d-48e9-ae4a-33cc0fd69a6b",
   "metadata": {},
   "outputs": [
    {
     "name": "stdout",
     "output_type": "stream",
     "text": [
      "Original array:\n",
      "[[[ 0  4  8 12 16]\n",
      "  [ 1  5  9 13 17]\n",
      "  [ 2  6 10 14 18]\n",
      "  [ 3  7 11 15 19]]\n",
      "\n",
      " [[20 24 28 32 36]\n",
      "  [21 25 29 33 37]\n",
      "  [22 26 30 34 38]\n",
      "  [23 27 31 35 39]]]\n",
      "\n",
      "Slice:\n",
      "[[ 2 10 18]\n",
      " [ 3 11 19]]\n",
      "\n",
      "Original array after modifying the slice:\n",
      "[[[ 0  4  8 12 16]\n",
      "  [ 1  5  9 13 17]\n",
      "  [-1  6 -1 14 -1]\n",
      "  [-1  7 -1 15 -1]]\n",
      "\n",
      " [[20 24 28 32 36]\n",
      "  [21 25 29 33 37]\n",
      "  [22 26 30 34 38]\n",
      "  [23 27 31 35 39]]]\n"
     ]
    }
   ],
   "source": [
    ">python\n",
    "print(\"Original array:\")\n",
    "array = np.arange(0, 40).reshape((2,5,4)).transpose((2,1,0)) # We'll get 4 × 5 × 2 array, and we need this transposition because of the row-major ordering\n",
    "print_matrix(array)\n",
    "\n",
    "# Let's modify the slice!\n",
    "print(\"\\nSlice:\")\n",
    "slice = array[2:4, ::2, 0]\n",
    "print_matrix(slice)\n",
    "slice.flat = -1;\n",
    "    \n",
    "print(\"\\nOriginal array after modifying the slice:\")\n",
    "print_matrix(array)"
   ]
  },
  {
   "cell_type": "code",
   "execution_count": 8,
   "id": "98fb1e6f-3d78-4e30-bb4a-729767006aa8",
   "metadata": {},
   "outputs": [
    {
     "name": "stdout",
     "output_type": "stream",
     "text": [
      "Original array:\n"
     ]
    },
    {
     "data": {
      "text/plain": [
       "4×5×2 Array{Int64, 3}:\n",
       "[:, :, 1] =\n",
       " 0  4   8  12  16\n",
       " 1  5   9  13  17\n",
       " 2  6  10  14  18\n",
       " 3  7  11  15  19\n",
       "\n",
       "[:, :, 2] =\n",
       " 20  24  28  32  36\n",
       " 21  25  29  33  37\n",
       " 22  26  30  34  38\n",
       " 23  27  31  35  39"
      ]
     },
     "metadata": {},
     "output_type": "display_data"
    },
    {
     "name": "stdout",
     "output_type": "stream",
     "text": [
      "\n",
      "Slice:\n"
     ]
    },
    {
     "data": {
      "text/plain": [
       "2×3 view(::Array{Int64, 3}, 3:4, 1:2:5, 1) with eltype Int64:\n",
       " 2  10  18\n",
       " 3  11  19"
      ]
     },
     "metadata": {},
     "output_type": "display_data"
    },
    {
     "name": "stdout",
     "output_type": "stream",
     "text": [
      "\n",
      "Original array after modifying the slice:\n"
     ]
    },
    {
     "data": {
      "text/plain": [
       "4×5×2 Array{Int64, 3}:\n",
       "[:, :, 1] =\n",
       "  0  4   8  12  16\n",
       "  1  5   9  13  17\n",
       " -1  6  -1  14  -1\n",
       " -1  7  -1  15  -1\n",
       "\n",
       "[:, :, 2] =\n",
       " 20  24  28  32  36\n",
       " 21  25  29  33  37\n",
       " 22  26  30  34  38\n",
       " 23  27  31  35  39"
      ]
     },
     "metadata": {},
     "output_type": "display_data"
    }
   ],
   "source": [
    ">julia-1.7\n",
    "array = collect(reshape(0:39, 4, 5, 2))\n",
    "println(\"Original array:\"); flush(stdout)\n",
    "display(array)\n",
    "\n",
    "slice = @view array[3:4, 1:2:5, 1]\n",
    "println(\"\\nSlice:\"); flush(stdout)\n",
    "display(slice)\n",
    "\n",
    "# Let's modify the slice!\n",
    "slice .= -1;\n",
    "# Alternative solution:\n",
    "array[3:4, 1:2:5, 1] .= -1\n",
    "\n",
    "println(\"\\nOriginal array after modifying the slice:\"); flush(stdout)\n",
    "display(array)"
   ]
  },
  {
   "cell_type": "markdown",
   "id": "e5b509ea-1a8b-45a5-a6bc-b7a4e5e2e8f2",
   "metadata": {},
   "source": [
    "#### Copying the slice\n",
    "\n",
    "To avoid the modification of the original array, we need to create explicitly a copy of the slice."
   ]
  },
  {
   "cell_type": "code",
   "execution_count": 15,
   "id": "e27a9979-767e-4cb5-a55c-c78757d8030c",
   "metadata": {},
   "outputs": [
    {
     "name": "stdout",
     "output_type": "stream",
     "text": [
      "Original array before modifying the slice: basic NDArray<Integer>(4 × 5)\n",
      "     0\t     4\t     8\t    12\t    16\t\n",
      "     1\t     5\t     9\t    13\t    17\t\n",
      "     2\t     6\t    10\t    14\t    18\t\n",
      "     3\t     7\t    11\t    15\t    19\t\n",
      "\n",
      "Modified slice: basic NDArray<Integer>(2 × 3)\n",
      "    -1\t    -1\t    -1\t\n",
      "    -1\t    -1\t    -1\t\n",
      "\n",
      "Original array after modifying the slice: basic NDArray<Integer>(4 × 5)\n",
      "     0\t     4\t     8\t    12\t    16\t\n",
      "     1\t     5\t     9\t    13\t    17\t\n",
      "     2\t     6\t    10\t    14\t    18\t\n",
      "     3\t     7\t    11\t    15\t    19\t\n",
      "\n"
     ]
    }
   ],
   "source": [
    ">java\n",
    "import io.github.hakkelt.ndarrays.Range;\n",
    "\n",
    "NDArray<Integer> array = new BasicIntegerNDArray(4, 5).fillUsingLinearIndices(i -> i);\n",
    "System.out.println(\"Original array before modifying the slice: \" + array.contentToString());\n",
    "\n",
    "NDArray<Integer> slice = array.slice(new Range(2,4), new Range(0, 2, 5)).copy(); //# here we make a copy of the slice!\n",
    "slice.fill(-1);\n",
    "System.out.println(\"Modified slice: \" + slice.contentToString());\n",
    "\n",
    "System.out.println(\"Original array after modifying the slice: \" + array.contentToString());"
   ]
  },
  {
   "cell_type": "markdown",
   "id": "45c043ed-24a4-40f8-ab9d-cbc3ac383cb0",
   "metadata": {},
   "source": [
    "In Matlab, slicing creates a copy automatically (except when it appears on the left hand side of an assignment)."
   ]
  },
  {
   "cell_type": "code",
   "execution_count": 9,
   "id": "21196281-93f8-47e2-9390-85df6a3f7c16",
   "metadata": {},
   "outputs": [
    {
     "name": "stdout",
     "output_type": "stream",
     "text": [
      "Original array before modifying the slice:\n",
      "\n",
      "array(:,:,1) =\n",
      "\n",
      "     0     4     8    12    16\n",
      "     1     5     9    13    17\n",
      "     2     6    10    14    18\n",
      "     3     7    11    15    19\n",
      "\n",
      "\n",
      "array(:,:,2) =\n",
      "\n",
      "    20    24    28    32    36\n",
      "    21    25    29    33    37\n",
      "    22    26    30    34    38\n",
      "    23    27    31    35    39\n",
      "\n",
      "\n",
      "\n",
      "Modified slice:\n",
      "\n",
      "slice =\n",
      "\n",
      "    -1    -1    -1\n",
      "    -1    -1    -1\n",
      "\n",
      "\n",
      "\n",
      "Original array after modifying the slice:\n",
      "\n",
      "array(:,:,1) =\n",
      "\n",
      "     0     4     8    12    16\n",
      "     1     5     9    13    17\n",
      "     2     6    10    14    18\n",
      "     3     7    11    15    19\n",
      "\n",
      "\n",
      "array(:,:,2) =\n",
      "\n",
      "    20    24    28    32    36\n",
      "    21    25    29    33    37\n",
      "    22    26    30    34    38\n",
      "    23    27    31    35    39\n",
      "\n",
      "\n"
     ]
    }
   ],
   "source": [
    ">matlab\n",
    "disp(\"Original array before modifying the slice:\")\n",
    "array = reshape(0:39, 4, 5, 2)\n",
    "\n",
    "slice = array(3:4, 1:2:5, 1); %# this line creates a copy of the referenced sub-matrix!\n",
    "fprintf(\"\\n\\nModified slice:\\n\")\n",
    "slice(:) = -1 %# Let's modify the slice!\n",
    "\n",
    "fprintf(\"\\n\\nOriginal array after modifying the slice:\\n\")\n",
    "array"
   ]
  },
  {
   "cell_type": "markdown",
   "id": "eec9e871-bfb3-4a37-8dae-54d15697a149",
   "metadata": {},
   "source": [
    "With NumPy, we also need to create a copy explicitly."
   ]
  },
  {
   "cell_type": "code",
   "execution_count": 10,
   "id": "7ced8b0e-4173-4751-8101-c60997a26d8f",
   "metadata": {},
   "outputs": [
    {
     "name": "stdout",
     "output_type": "stream",
     "text": [
      "Original array before modifying the slice:\n",
      "[[[ 0  4  8 12 16]\n",
      "  [ 1  5  9 13 17]\n",
      "  [ 2  6 10 14 18]\n",
      "  [ 3  7 11 15 19]]\n",
      "\n",
      " [[20 24 28 32 36]\n",
      "  [21 25 29 33 37]\n",
      "  [22 26 30 34 38]\n",
      "  [23 27 31 35 39]]]\n",
      "\n",
      "Modified slice:\n",
      "[[-1 -1 -1]\n",
      " [-1 -1 -1]]\n",
      "\n",
      "Original array after modifying the slice:\n",
      "[[[ 0  4  8 12 16]\n",
      "  [ 1  5  9 13 17]\n",
      "  [ 2  6 10 14 18]\n",
      "  [ 3  7 11 15 19]]\n",
      "\n",
      " [[20 24 28 32 36]\n",
      "  [21 25 29 33 37]\n",
      "  [22 26 30 34 38]\n",
      "  [23 27 31 35 39]]]\n"
     ]
    }
   ],
   "source": [
    ">python\n",
    "print(\"Original array before modifying the slice:\")\n",
    "array = np.arange(0, 40).reshape((2,5,4)).transpose((2,1,0))  # transposition because of the row-major ordering, again...\n",
    "print_matrix(array)\n",
    "\n",
    "# Let's modify the slice!\n",
    "print(\"\\nModified slice:\")\n",
    "slice = array[2:4, ::2, 0].copy()\n",
    "slice.flat = -1;\n",
    "print_matrix(slice)\n",
    "    \n",
    "print(\"\\nOriginal array after modifying the slice:\")\n",
    "print_matrix(array)"
   ]
  },
  {
   "cell_type": "markdown",
   "id": "ed86d408-a803-44c0-83b4-66465437c45e",
   "metadata": {},
   "source": [
    "Like Matlab, Julia creates a copy by default when slicing is performed (except when it appears on the left hand side of an assignment):"
   ]
  },
  {
   "cell_type": "code",
   "execution_count": 9,
   "id": "c6f9f201-79df-4862-8c17-e9c0770077d4",
   "metadata": {},
   "outputs": [
    {
     "name": "stdout",
     "output_type": "stream",
     "text": [
      "Original array before modifying the slice:\n"
     ]
    },
    {
     "data": {
      "text/plain": [
       "4×5×2 Array{Int64, 3}:\n",
       "[:, :, 1] =\n",
       " 0  4   8  12  16\n",
       " 1  5   9  13  17\n",
       " 2  6  10  14  18\n",
       " 3  7  11  15  19\n",
       "\n",
       "[:, :, 2] =\n",
       " 20  24  28  32  36\n",
       " 21  25  29  33  37\n",
       " 22  26  30  34  38\n",
       " 23  27  31  35  39"
      ]
     },
     "metadata": {},
     "output_type": "display_data"
    },
    {
     "name": "stdout",
     "output_type": "stream",
     "text": [
      "\n",
      "Modified slice:\n"
     ]
    },
    {
     "data": {
      "text/plain": [
       "2×3 Matrix{Int64}:\n",
       " -1  -1  -1\n",
       " -1  -1  -1"
      ]
     },
     "metadata": {},
     "output_type": "display_data"
    },
    {
     "name": "stdout",
     "output_type": "stream",
     "text": [
      "\n",
      "Original array after modifying the slice:\n"
     ]
    },
    {
     "data": {
      "text/plain": [
       "4×5×2 Array{Int64, 3}:\n",
       "[:, :, 1] =\n",
       " 0  4   8  12  16\n",
       " 1  5   9  13  17\n",
       " 2  6  10  14  18\n",
       " 3  7  11  15  19\n",
       "\n",
       "[:, :, 2] =\n",
       " 20  24  28  32  36\n",
       " 21  25  29  33  37\n",
       " 22  26  30  34  38\n",
       " 23  27  31  35  39"
      ]
     },
     "metadata": {},
     "output_type": "display_data"
    }
   ],
   "source": [
    ">julia-1.7\n",
    "array = collect(reshape(0:39, 4, 5, 2))\n",
    "println(\"Original array before modifying the slice:\"); flush(stdout)\n",
    "display(array)\n",
    "\n",
    "slice = array[3:4, 1:2:5, 1] # here we create a copy\n",
    "slice .= -1;                 # Let's modify the slice!\n",
    "println(\"\\nModified slice:\"); flush(stdout)\n",
    "display(slice)\n",
    "\n",
    "println(\"\\nOriginal array after modifying the slice:\"); flush(stdout)\n",
    "display(array)"
   ]
  },
  {
   "cell_type": "markdown",
   "id": "eac9f76d-13fa-4e25-98bf-e0a834d6afc3",
   "metadata": {},
   "source": [
    "#### Special ranges\n",
    "\n",
    "Ranges starting from beginning, going until end, or selecting entire range."
   ]
  },
  {
   "cell_type": "code",
   "execution_count": 16,
   "id": "36f1b44b-7c6d-4c60-ba21-5cacf07d5f61",
   "metadata": {},
   "outputs": [
    {
     "name": "stdout",
     "output_type": "stream",
     "text": [
      "Shape of slice that selects the first two rows, all columns starting from index 3, and all the slices: 2 × 2 × 3"
     ]
    }
   ],
   "source": [
    ">java\n",
    "NDArray<Integer> array = new BasicIntegerNDArray(4, 5, 3);\n",
    "//# Omitting the start index implies a range starting from 0\n",
    "//# Omitting the end index implies that the range goes until the end of the specific dimension\n",
    "//# Omitting both start and end selects maximal range\n",
    "NDArray<Integer> slice = array.slice(\":2\", \"3:\", \":\");\n",
    "slice = array.slice(\":2\", \"3:\", Range.ALL); //# alternative solution for selecting entire range\n",
    "System.out.format(\"Shape of slice that selects the first two rows, all columns starting from index 3, and all the slices: %d × %d × %d\",\n",
    "        slice.shape(0), slice.shape(1), slice.shape(2));"
   ]
  },
  {
   "cell_type": "code",
   "execution_count": 10,
   "id": "c40d2e94-71f5-4874-87cd-a3598eab2791",
   "metadata": {},
   "outputs": [
    {
     "name": "stdout",
     "output_type": "stream",
     "text": [
      "Shape of slice that selects the first two rows, all columns starting from index 4, and all the slices: 2 × 2 × 3\n"
     ]
    }
   ],
   "source": [
    ">matlab\n",
    "array = zeros(4, 5, 3);\n",
    "slice = array(1:2,4:end,:);\n",
    "fprintf(\"Shape of slice that selects the first two rows, all columns starting from index 4, and all the slices: %d × %d × %d\", size(slice, 1), size(slice, 2), size(slice, 3))"
   ]
  },
  {
   "cell_type": "code",
   "execution_count": 11,
   "id": "08659be4-96e9-4e61-9228-f6bcac4e16f9",
   "metadata": {},
   "outputs": [
    {
     "name": "stdout",
     "output_type": "stream",
     "text": [
      "Shape of slice that selects the first two rows, all columns starting from index 3, and all the slices: 2 × 2 × 3\n"
     ]
    }
   ],
   "source": [
    ">python\n",
    "array = np.zeros((4, 5, 3))\n",
    "slice = array[0:2,3:,:]\n",
    "print(f\"Shape of slice that selects the first two rows, all columns starting from index 3, and all the slices:\",\n",
    "    \" × \".join(map(str, slice.shape)))"
   ]
  },
  {
   "cell_type": "code",
   "execution_count": 10,
   "id": "999f615f-03d5-4760-b042-db50a7f76351",
   "metadata": {},
   "outputs": [
    {
     "name": "stdout",
     "output_type": "stream",
     "text": [
      "Shape of slice that selects the first two rows, all columns starting from index 3, and all the slices: 2 × 2 × 3"
     ]
    }
   ],
   "source": [
    ">julia-1.7\n",
    "array = zeros(4, 5, 3)\n",
    "slice = array[1:2,4:end,:]\n",
    "print(\"Shape of slice that selects the first two rows, all columns starting from index 3, and all the slices: \")\n",
    "print(join(size(slice), \" × \"))"
   ]
  },
  {
   "cell_type": "markdown",
   "id": "0bd2aed6-3773-4300-bda0-dcd4c2d90a1b",
   "metadata": {
    "tags": []
   },
   "source": [
    "#### Negative indexing\n",
    "\n",
    "1. Define start or end of range based on the distance from the last index.\n",
    "1. Reverse range."
   ]
  },
  {
   "cell_type": "code",
   "execution_count": 17,
   "id": "b2d12c7d-ca0b-45f1-9c28-6433f4cb30cb",
   "metadata": {},
   "outputs": [
    {
     "name": "stdout",
     "output_type": "stream",
     "text": [
      "Original array: basic NDArray<Integer>(4 × 5)\n",
      "     0\t     4\t     8\t    12\t    16\t\n",
      "     1\t     5\t     9\t    13\t    17\t\n",
      "     2\t     6\t    10\t    14\t    18\t\n",
      "     3\t     7\t    11\t    15\t    19\t\n",
      "\n",
      "Slice (last two rows and every second columns in reverse orders): basic NDArrayView<Integer>(2 × 3)\n",
      "    18\t    10\t     2\t\n",
      "    19\t    11\t     3\t\n",
      "\n"
     ]
    }
   ],
   "source": [
    ">java\n",
    "NDArray<Integer> array = new BasicIntegerNDArray(4, 5).fillUsingLinearIndices(i -> i);\n",
    "System.out.println(\"Original array: \" + array.contentToString());\n",
    "NDArray<Integer> slice = array.slice(\"-2:\", new Range(4, -2, -1));\n",
    "System.out.println(\"Slice (last two rows and every second columns in reverse orders): \" + slice.contentToString());"
   ]
  },
  {
   "cell_type": "code",
   "execution_count": 11,
   "id": "1c125597-4b3b-4438-bcea-0e590d88196f",
   "metadata": {},
   "outputs": [
    {
     "name": "stdout",
     "output_type": "stream",
     "text": [
      "Original array:\n",
      "     0     4     8    12    16\n",
      "     1     5     9    13    17\n",
      "     2     6    10    14    18\n",
      "     3     7    11    15    19\n",
      "\n",
      "Slice (last two rows and every second columns in reverse orders):\n",
      "    18    10     2\n",
      "    19    11     3\n",
      "\n",
      "\n"
     ]
    }
   ],
   "source": [
    ">matlab\n",
    "disp(\"Original array:\")\n",
    "array = reshape(0:19, 4, 5);\n",
    "disp(array)\n",
    "\n",
    "disp(\"Slice (last two rows and every second columns in reverse orders):\")\n",
    "disp(array(end-1:end,5:-2:1))"
   ]
  },
  {
   "cell_type": "code",
   "execution_count": 12,
   "id": "f1111d99-ee47-4850-9033-592f272cd1c1",
   "metadata": {},
   "outputs": [
    {
     "name": "stdout",
     "output_type": "stream",
     "text": [
      "Original array:\n",
      "[[ 0  4  8 12 16]\n",
      " [ 1  5  9 13 17]\n",
      " [ 2  6 10 14 18]\n",
      " [ 3  7 11 15 19]]\n",
      "\n",
      "Slice (last two rows and every second columns in reverse orders):\n",
      "[[18 10  2]\n",
      " [19 11  3]]\n"
     ]
    }
   ],
   "source": [
    ">python\n",
    "print(\"Original array:\")\n",
    "array = np.arange(0, 20).reshape(5, 4).T\n",
    "print_matrix(array)\n",
    "\n",
    "print(\"\\nSlice (last two rows and every second columns in reverse orders):\")\n",
    "print_matrix(array[-2:,4::-2])"
   ]
  },
  {
   "cell_type": "code",
   "execution_count": 11,
   "id": "8854ad8b-0fa0-4d51-b8bf-7c3dafe2b1aa",
   "metadata": {},
   "outputs": [
    {
     "name": "stdout",
     "output_type": "stream",
     "text": [
      "Original array:"
     ]
    },
    {
     "data": {
      "text/plain": [
       "4×5 Matrix{Int64}:\n",
       " 0  4   8  12  16\n",
       " 1  5   9  13  17\n",
       " 2  6  10  14  18\n",
       " 3  7  11  15  19"
      ]
     },
     "metadata": {},
     "output_type": "display_data"
    },
    {
     "name": "stdout",
     "output_type": "stream",
     "text": [
      "\n",
      "Slice (last two rows and every second columns in reverse orders):"
     ]
    },
    {
     "data": {
      "text/plain": [
       "2×3 Matrix{Int64}:\n",
       " 18  10  2\n",
       " 19  11  3"
      ]
     },
     "metadata": {},
     "output_type": "display_data"
    }
   ],
   "source": [
    ">julia-1.7\n",
    "print(\"Original array:\"); flush(stdout)\n",
    "array = collect(reshape(0:19, 4, 5))\n",
    "display(array)\n",
    "\n",
    "print(\"\\nSlice (last two rows and every second columns in reverse orders):\"); flush(stdout)\n",
    "display(array[end-1:end,end:-2:1])"
   ]
  },
  {
   "cell_type": "markdown",
   "id": "bffe9c8a-b06b-479c-b918-5b594251fab1",
   "metadata": {},
   "source": [
    "#### Logical indexing, masking"
   ]
  },
  {
   "cell_type": "code",
   "execution_count": 18,
   "id": "a0b23bce-379c-4907-9eda-b570474c6882",
   "metadata": {},
   "outputs": [
    {
     "name": "stdout",
     "output_type": "stream",
     "text": [
      "Original array: basic NDArray<Integer>(4 × 5)\n",
      "     0\t     4\t     8\t    12\t    16\t\n",
      "     1\t     5\t     9\t    13\t    17\t\n",
      "     2\t     6\t    10\t    14\t    18\t\n",
      "     3\t     7\t    11\t    15\t    19\t\n",
      "\n",
      "Selection mask: basic NDArray<Integer>(4 × 5)\n",
      "     0\t     1\t     0\t     1\t     0\t\n",
      "     1\t     0\t     1\t     0\t     1\t\n",
      "     0\t     1\t     0\t     1\t     0\t\n",
      "     1\t     0\t     1\t     0\t     1\t\n",
      "\n",
      "Selected values: basic NDArrayView<Integer>(10)\n",
      "     1\t     3\t     4\t     6\t     9\t    11\t    12\t    14\t    17\t    19\t\n",
      "\n",
      "Original array after zeroing out number divisible by 3: basic NDArray<Integer>(4 × 5)\n",
      "     0\t     4\t     8\t     0\t    16\t\n",
      "     1\t     5\t     0\t    13\t    17\t\n",
      "     2\t     0\t    10\t    14\t     0\t\n",
      "     0\t     7\t    11\t     0\t    19\t\n",
      "\n",
      "Original array after squaring even values in the first three columns: basic NDArray<Integer>(4 × 5)\n",
      "     0\t    16\t    64\t     0\t    16\t\n",
      "     1\t     5\t     0\t    13\t    17\t\n",
      "     4\t     0\t   100\t    14\t     0\t\n",
      "     0\t     7\t    11\t     0\t    19\t\n",
      "\n"
     ]
    }
   ],
   "source": [
    ">java\n",
    "NDArray<Integer> array = new BasicIntegerNDArray(4, 5).fillUsingLinearIndices(i -> i);\n",
    "System.out.println(\"Original array: \" + array.contentToString());\n",
    "\n",
    "NDArray<Integer> checkerMask = new BasicIntegerNDArray(4, 5).fillUsingCartesianIndices(idx -> (idx[0] + idx[1]) % 2);\n",
    "System.out.println(\"Selection mask: \" + checkerMask.contentToString());\n",
    "NDArray<Integer> selected = array.mask(checkerMask);\n",
    "System.out.println(\"Selected values: \" + selected.contentToString());\n",
    "\n",
    "array.mask(value -> value % 3 == 0).fill(0);\n",
    "System.out.println(\"\\nOriginal array after zeroing out number divisible by 3: \" + array.contentToString());\n",
    "\n",
    "array.maskWithCartesianIndices((value, idx) -> idx[1] < 3 && value % 2 == 0).apply(value -> value * value);\n",
    "System.out.println(\"Original array after squaring even values in the first three columns: \" + array.contentToString());"
   ]
  },
  {
   "cell_type": "code",
   "execution_count": 12,
   "id": "c96a2dfa-e155-4d59-b0e9-6c67150e2aac",
   "metadata": {},
   "outputs": [
    {
     "name": "stdout",
     "output_type": "stream",
     "text": [
      "Original array:\n",
      "     0     4     8    12    16\n",
      "     1     5     9    13    17\n",
      "     2     6    10    14    18\n",
      "     3     7    11    15    19\n",
      "\n",
      "Selection mask:\n",
      "   0   1   0   1   0\n",
      "   1   0   1   0   1\n",
      "   0   1   0   1   0\n",
      "   1   0   1   0   1\n",
      "\n",
      "Selected values:\n",
      "     1     3     4     6     9    11    12    14    17    19\n",
      "\n",
      "Original array after zeroing out number divisible by 3:\n",
      "     0     4     8     0    16\n",
      "     1     5     0    13    17\n",
      "     2     0    10    14     0\n",
      "     0     7    11     0    19\n",
      "\n",
      "Original array after squaring even values in the first three columns:\n",
      "     0    16    64     0    16\n",
      "     1     5     0    13    17\n",
      "     4     0   100    14     0\n",
      "     0     7    11     0    19\n",
      "\n",
      "\n"
     ]
    }
   ],
   "source": [
    ">matlab\n",
    "disp(\"Original array:\")\n",
    "array = reshape(0:19, 4, 5);\n",
    "disp(array)\n",
    "\n",
    "disp(\"Selection mask:\")\n",
    "checkerMask = ones(4, 5);\n",
    "checkerMask(2:2:end,2:2:end) = 0;\n",
    "checkerMask(1:2:end,1:2:end) = 0;\n",
    "checkerMask = checkerMask == 1;\n",
    "disp(checkerMask)\n",
    "\n",
    "disp(\"Selected values:\")\n",
    "disp(array(checkerMask)')\n",
    "\n",
    "disp(\"Original array after zeroing out number divisible by 3:\")\n",
    "array(mod(array, 3) == 0) = 0;\n",
    "disp(array)\n",
    "\n",
    "disp(\"Original array after squaring even values in the first three columns:\")\n",
    "mask_first_three_column = zeros(size(array));\n",
    "mask_first_three_column(:,1:3) = 1;\n",
    "mask_even_elements = mod(array, 2) == 0;\n",
    "array(mask_first_three_column & mask_even_elements) = array(mask_first_three_column & mask_even_elements) .^ 2;\n",
    "disp(array)"
   ]
  },
  {
   "cell_type": "code",
   "execution_count": 13,
   "id": "1c8b601f-7ab6-43af-983a-00a1f398de94",
   "metadata": {},
   "outputs": [
    {
     "name": "stdout",
     "output_type": "stream",
     "text": [
      "Original array:\n",
      "[[ 0  4  8 12 16]\n",
      " [ 1  5  9 13 17]\n",
      " [ 2  6 10 14 18]\n",
      " [ 3  7 11 15 19]]\n",
      "\n",
      "Selection mask:\n",
      "[[0 1 0 1 0]\n",
      " [1 0 1 0 1]\n",
      " [0 1 0 1 0]\n",
      " [1 0 1 0 1]]\n",
      "\n",
      "Selected values:\n",
      "[ 1  3  4  6  9 11 12 14 17 19]\n",
      "\n",
      "Original array after zeroing out number divisible by 3:\n",
      "[[ 0  4  8  0 16]\n",
      " [ 1  5  0 13 17]\n",
      " [ 2  0 10 14  0]\n",
      " [ 0  7 11  0 19]]\n",
      "\n",
      "Original array after squaring even values in the first three columns:\n",
      "[[  0  16  64   0  16]\n",
      " [  1   5   0  13  17]\n",
      " [  4   0 100  14   0]\n",
      " [  0   7  11   0  19]]\n"
     ]
    }
   ],
   "source": [
    ">python\n",
    "print(\"Original array:\")\n",
    "array = np.arange(0, 20).reshape(5, 4).T;\n",
    "print_matrix(array)\n",
    "\n",
    "print(\"\\nSelection mask:\")\n",
    "checkerMask = np.asarray([[(i + j) % 2 for i in range(0, 5)] for j in range(0, 4)]);\n",
    "print_matrix(checkerMask)\n",
    "\n",
    "print(\"\\nSelected values:\")\n",
    "print(array.T[checkerMask.T == 1])\n",
    "\n",
    "print(\"\\nOriginal array after zeroing out number divisible by 3:\")\n",
    "array[array % 3 == 0] = 0;\n",
    "print_matrix(array)\n",
    "\n",
    "print(\"\\nOriginal array after squaring even values in the first three columns:\")\n",
    "first_three_column = array[:,:3]\n",
    "first_three_column[first_three_column % 2 == 0] **= 2\n",
    "print_matrix(array)"
   ]
  },
  {
   "cell_type": "code",
   "execution_count": 12,
   "id": "40653554-1f99-4e0f-9eb6-1dde2067afdc",
   "metadata": {},
   "outputs": [
    {
     "name": "stdout",
     "output_type": "stream",
     "text": [
      "Original array:"
     ]
    },
    {
     "data": {
      "text/plain": [
       "4×5 Matrix{Int64}:\n",
       " 0  4   8  12  16\n",
       " 1  5   9  13  17\n",
       " 2  6  10  14  18\n",
       " 3  7  11  15  19"
      ]
     },
     "metadata": {},
     "output_type": "display_data"
    },
    {
     "name": "stdout",
     "output_type": "stream",
     "text": [
      "\n",
      "Selection mask:"
     ]
    },
    {
     "data": {
      "text/plain": [
       "4×5 Matrix{Int64}:\n",
       " 0  1  0  1  0\n",
       " 1  0  1  0  1\n",
       " 0  1  0  1  0\n",
       " 1  0  1  0  1"
      ]
     },
     "metadata": {},
     "output_type": "display_data"
    },
    {
     "name": "stdout",
     "output_type": "stream",
     "text": [
      "\n",
      "Selected values:"
     ]
    },
    {
     "data": {
      "text/plain": [
       "1×10 adjoint(::Vector{Int64}) with eltype Int64:\n",
       " 1  3  4  6  9  11  12  14  17  19"
      ]
     },
     "metadata": {},
     "output_type": "display_data"
    },
    {
     "name": "stdout",
     "output_type": "stream",
     "text": [
      "\n",
      "Original array after zeroing out number divisible by 3:"
     ]
    },
    {
     "data": {
      "text/plain": [
       "4×5 Matrix{Int64}:\n",
       " 0  4   8   0  16\n",
       " 1  5   0  13  17\n",
       " 2  0  10  14   0\n",
       " 0  7  11   0  19"
      ]
     },
     "metadata": {},
     "output_type": "display_data"
    },
    {
     "name": "stdout",
     "output_type": "stream",
     "text": [
      "\n",
      "Original array after squaring even values in the first three columns:"
     ]
    },
    {
     "data": {
      "text/plain": [
       "4×5 Matrix{Int64}:\n",
       " 0  16   64   0  16\n",
       " 1   5    0  13  17\n",
       " 4   0  100  14   0\n",
       " 0   7   11   0  19"
      ]
     },
     "metadata": {},
     "output_type": "display_data"
    }
   ],
   "source": [
    ">julia-1.7\n",
    "print(\"Original array:\"); flush(stdout)\n",
    "array = collect(reshape(0:19, 4, 5))\n",
    "display(array)\n",
    "\n",
    "print(\"\\nSelection mask:\"); flush(stdout)\n",
    "checkerMask = [(i + j) % 2 for i in 1:4, j in 1:5];\n",
    "display(checkerMask)\n",
    "\n",
    "print(\"\\nSelected values:\"); flush(stdout)\n",
    "display(array[checkerMask .== 1]')\n",
    "\n",
    "print(\"\\nOriginal array after zeroing out number divisible by 3:\"); flush(stdout)\n",
    "array[array .% 3 .== 0] .= 0\n",
    "display(array)\n",
    "\n",
    "print(\"\\nOriginal array after squaring even values in the first three columns:\"); flush(stdout)\n",
    "first_three_column = @view array[:,1:3]\n",
    "first_three_column[first_three_column .% 2 .== 0] .^= 2\n",
    "display(array)"
   ]
  },
  {
   "cell_type": "markdown",
   "id": "9c874985-3f02-4f2a-af0a-fc901b72409b",
   "metadata": {},
   "source": [
    "#### Assign sub-matrix"
   ]
  },
  {
   "cell_type": "code",
   "execution_count": 19,
   "id": "08ca6160-14c4-4bf8-9bc0-1ca5a82b1a7a",
   "metadata": {},
   "outputs": [
    {
     "name": "stdout",
     "output_type": "stream",
     "text": [
      "Original matrix: basic NDArray<Integer>(4 × 4)\n",
      "     0\t     4\t     8\t    12\t\n",
      "     1\t     5\t     9\t    13\t\n",
      "     2\t     6\t    10\t    14\t\n",
      "     3\t     7\t    11\t    15\t\n",
      "\n",
      "A smaller matrix: basic NDArray<Integer>(2 × 2)\n",
      "  -100\t  -102\t\n",
      "  -101\t  -103\t\n",
      "\n",
      "Original matrix after assigning the smaller matrix to its center: basic NDArray<Integer>(4 × 4)\n",
      "     0\t     4\t     8\t    12\t\n",
      "     1\t  -100\t  -102\t    13\t\n",
      "     2\t  -101\t  -103\t    14\t\n",
      "     3\t     7\t    11\t    15\t\n",
      "\n"
     ]
    }
   ],
   "source": [
    ">java\n",
    "NDArray<Integer> array = new BasicIntegerNDArray(4, 4).fillUsingLinearIndices(i -> i);\n",
    "System.out.println(\"Original matrix: \" + array.contentToString());\n",
    "\n",
    "NDArray<Integer> subMatrix = new BasicIntegerNDArray(2, 2).fillUsingLinearIndices(i -> -100 - i);\n",
    "System.out.println(\"A smaller matrix: \" + subMatrix.contentToString());\n",
    "\n",
    "array.slice(\"1:3\", \"1:3\").copyFrom(subMatrix);\n",
    "System.out.println(\"Original matrix after assigning the smaller matrix to its center: \" + array.contentToString());"
   ]
  },
  {
   "cell_type": "code",
   "execution_count": 13,
   "id": "9513c57d-23b0-4c4d-885c-9546b92f9265",
   "metadata": {},
   "outputs": [
    {
     "name": "stdout",
     "output_type": "stream",
     "text": [
      "Original matrix:\n",
      "     0     4     8    12\n",
      "     1     5     9    13\n",
      "     2     6    10    14\n",
      "     3     7    11    15\n",
      "\n",
      "A smaller matrix:\n",
      "  -100  -102\n",
      "  -101  -103\n",
      "\n",
      "Original matrix after assigning the smaller matrix to its center:\n",
      "     0     4     8    12\n",
      "     1  -100  -102    13\n",
      "     2  -101  -103    14\n",
      "     3     7    11    15\n",
      "\n",
      "\n"
     ]
    }
   ],
   "source": [
    ">matlab\n",
    "disp(\"Original matrix:\")\n",
    "array = reshape(0:15, 4, 4);\n",
    "disp(array)\n",
    "\n",
    "disp(\"A smaller matrix:\")\n",
    "subMatrix = -100 - reshape(0:3, 2, 2);\n",
    "disp(subMatrix)\n",
    "\n",
    "disp(\"Original matrix after assigning the smaller matrix to its center:\")\n",
    "array(2:3, 2:3) = subMatrix;\n",
    "disp(array)"
   ]
  },
  {
   "cell_type": "code",
   "execution_count": 14,
   "id": "1f21cd70-82d4-42df-bd48-8c577581c094",
   "metadata": {},
   "outputs": [
    {
     "name": "stdout",
     "output_type": "stream",
     "text": [
      "Original matrix:\n",
      "[[ 0  4  8 12]\n",
      " [ 1  5  9 13]\n",
      " [ 2  6 10 14]\n",
      " [ 3  7 11 15]]\n",
      "\n",
      "A smaller matrix:\n",
      "[[-100 -102]\n",
      " [-101 -103]]\n",
      "\n",
      "Original matrix after assigning the smaller matrix to its center:\n",
      "[[   0    4    8   12]\n",
      " [   1 -100 -102   13]\n",
      " [   2 -101 -103   14]\n",
      " [   3    7   11   15]]\n"
     ]
    }
   ],
   "source": [
    ">python\n",
    "print(\"Original matrix:\")\n",
    "array = np.arange(0, 16).reshape(4, 4).T\n",
    "print_matrix(array)\n",
    "\n",
    "print(\"\\nA smaller matrix:\")\n",
    "subMatrix = -100 - np.arange(0, 4).reshape(2, 2).T\n",
    "print_matrix(subMatrix)\n",
    "\n",
    "print(\"\\nOriginal matrix after assigning the smaller matrix to its center:\")\n",
    "array[1:3,1:3] = subMatrix;\n",
    "print_matrix(array)"
   ]
  },
  {
   "cell_type": "code",
   "execution_count": 13,
   "id": "b896c8d8-6be7-413a-b3fc-a3b359453d3b",
   "metadata": {},
   "outputs": [
    {
     "name": "stdout",
     "output_type": "stream",
     "text": [
      "Original matrix:"
     ]
    },
    {
     "data": {
      "text/plain": [
       "4×4 Matrix{Int64}:\n",
       " 0  4   8  12\n",
       " 1  5   9  13\n",
       " 2  6  10  14\n",
       " 3  7  11  15"
      ]
     },
     "metadata": {},
     "output_type": "display_data"
    },
    {
     "name": "stdout",
     "output_type": "stream",
     "text": [
      "\n",
      "A smaller matrix:"
     ]
    },
    {
     "data": {
      "text/plain": [
       "2×2 Matrix{Int64}:\n",
       " -100  -102\n",
       " -101  -103"
      ]
     },
     "metadata": {},
     "output_type": "display_data"
    },
    {
     "name": "stdout",
     "output_type": "stream",
     "text": [
      "\n",
      "Original matrix after assigning the smaller matrix to its center:"
     ]
    },
    {
     "data": {
      "text/plain": [
       "4×4 Matrix{Int64}:\n",
       " 0     4     8  12\n",
       " 1  -100  -102  13\n",
       " 2  -101  -103  14\n",
       " 3     7    11  15"
      ]
     },
     "metadata": {},
     "output_type": "display_data"
    }
   ],
   "source": [
    ">julia-1.7\n",
    "print(\"Original matrix:\"); flush(stdout)\n",
    "array = collect(reshape(0:15, 4, 4))\n",
    "display(array)\n",
    "\n",
    "print(\"\\nA smaller matrix:\"); flush(stdout)\n",
    "subMatrix = -100 .- reshape(0:3, 2, 2)\n",
    "display(subMatrix)\n",
    "\n",
    "print(\"\\nOriginal matrix after assigning the smaller matrix to its center:\"); flush(stdout)\n",
    "array[2:3,2:3] .= subMatrix;\n",
    "display(array)"
   ]
  },
  {
   "cell_type": "markdown",
   "id": "eed8f148-0987-4435-a474-48edbc3388c6",
   "metadata": {},
   "source": [
    "### Reshaping"
   ]
  },
  {
   "cell_type": "code",
   "execution_count": 20,
   "id": "659f095a-e082-4a9f-8a5c-f8599ee40431",
   "metadata": {},
   "outputs": [
    {
     "name": "stdout",
     "output_type": "stream",
     "text": [
      "Original array: basic NDArray<Integer>(4 × 3 × 2)\n",
      "[:, :, 0] =\n",
      "     0\t     4\t     8\t\n",
      "     1\t     5\t     9\t\n",
      "     2\t     6\t    10\t\n",
      "     3\t     7\t    11\t\n",
      "\n",
      "[:, :, 1] =\n",
      "    12\t    16\t    20\t\n",
      "    13\t    17\t    21\t\n",
      "    14\t    18\t    22\t\n",
      "    15\t    19\t    23\t\n",
      "\n",
      "\n",
      "Reshaped array: basic NDArrayView<Integer>(4 × 6)\n",
      "     0\t     4\t     8\t    12\t    16\t    20\t\n",
      "     1\t     5\t     9\t    13\t    17\t    21\t\n",
      "     2\t     6\t    10\t    14\t    18\t    22\t\n",
      "     3\t     7\t    11\t    15\t    19\t    23\t\n",
      "\n",
      "Original array after changing reshaping view: basic NDArray<Integer>(4 × 3 × 2)\n",
      "[:, :, 0] =\n",
      "   -10\t   -10\t   -10\t\n",
      "     1\t     5\t     9\t\n",
      "   -10\t   -10\t   -10\t\n",
      "     3\t     7\t    11\t\n",
      "\n",
      "[:, :, 1] =\n",
      "   -10\t   -10\t   -10\t\n",
      "    13\t    17\t    21\t\n",
      "   -10\t   -10\t   -10\t\n",
      "    15\t    19\t    23\t\n",
      "\n",
      "\n"
     ]
    }
   ],
   "source": [
    ">java\n",
    "NDArray<Integer> array = new BasicIntegerNDArray(4, 3, 2).fillUsingLinearIndices(i -> i);\n",
    "System.out.println(\"Original array: \" + array.contentToString());\n",
    "\n",
    "NDArray<Integer> reshaped = array.reshape(4, 6);\n",
    "System.out.println(\"Reshaped array: \" + reshaped.contentToString());\n",
    "\n",
    "reshaped.slice(\":2:\", \":\").fill(-10);\n",
    "System.out.println(\"Original array after changing reshaping view: \" + array.contentToString());"
   ]
  },
  {
   "cell_type": "code",
   "execution_count": 14,
   "id": "ffbffcfa-4a79-4af5-842d-5dcf4a96ad40",
   "metadata": {},
   "outputs": [
    {
     "name": "stdout",
     "output_type": "stream",
     "text": [
      "Original array:\n",
      "\n",
      "(:,:,1) =\n",
      "\n",
      "     0     4     8\n",
      "     1     5     9\n",
      "     2     6    10\n",
      "     3     7    11\n",
      "\n",
      "\n",
      "(:,:,2) =\n",
      "\n",
      "    12    16    20\n",
      "    13    17    21\n",
      "    14    18    22\n",
      "    15    19    23\n",
      "\n",
      "Reshaped array:\n",
      "     0     4     8    12    16    20\n",
      "     1     5     9    13    17    21\n",
      "     2     6    10    14    18    22\n",
      "     3     7    11    15    19    23\n",
      "\n",
      "Original array after changing reshaping view: \n",
      "\n",
      "(:,:,1) =\n",
      "\n",
      "     0     4     8\n",
      "     1     5     9\n",
      "     2     6    10\n",
      "     3     7    11\n",
      "\n",
      "\n",
      "(:,:,2) =\n",
      "\n",
      "    12    16    20\n",
      "    13    17    21\n",
      "    14    18    22\n",
      "    15    19    23\n",
      "\n",
      "\n"
     ]
    }
   ],
   "source": [
    ">matlab\n",
    "disp(\"Original array:\")\n",
    "array = reshape(0:23, 4, 3, 2);\n",
    "disp(array)\n",
    "\n",
    "disp(\"Reshaped array:\")\n",
    "reshaped = reshape(array, 4, 6);  %# At this point, Matlab doesn't create a copy, reshaped is a new reference only\n",
    "disp(reshaped)\n",
    "\n",
    "disp(\"Original array after changing reshaping view: \")\n",
    "reshaped(1:2:4,:) = -10;          %# this command creates a copy of the original array with the new shape\n",
    "disp(array)                       %# therefore, it's not possible to modify original array through the reshaped variable in Matlab"
   ]
  },
  {
   "cell_type": "code",
   "execution_count": 15,
   "id": "2771549b-1cf3-4470-aa77-f95b75045f47",
   "metadata": {},
   "outputs": [
    {
     "name": "stdout",
     "output_type": "stream",
     "text": [
      "Original array:\n",
      "[[[ 0  4  8]\n",
      "  [ 1  5  9]\n",
      "  [ 2  6 10]\n",
      "  [ 3  7 11]]\n",
      "\n",
      " [[12 16 20]\n",
      "  [13 17 21]\n",
      "  [14 18 22]\n",
      "  [15 19 23]]]\n",
      "\n",
      "Reshaped array:\n",
      "[[ 0  4  8 12 16 20]\n",
      " [ 1  5  9 13 17 21]\n",
      " [ 2  6 10 14 18 22]\n",
      " [ 3  7 11 15 19 23]]\n",
      "\n",
      "Original array after changing reshaping view: \n",
      "[[[-10 -10 -10]\n",
      "  [  1   5   9]\n",
      "  [-10 -10 -10]\n",
      "  [  3   7  11]]\n",
      "\n",
      " [[-10 -10 -10]\n",
      "  [ 13  17  21]\n",
      "  [-10 -10 -10]\n",
      "  [ 15  19  23]]]\n"
     ]
    }
   ],
   "source": [
    ">python\n",
    "print(\"Original array:\")\n",
    "array = np.arange(0, 24).reshape(2, 3, 4).transpose((2, 1, 0))\n",
    "print_matrix(array)\n",
    "\n",
    "print(\"\\nReshaped array:\")\n",
    "reshaped = array.T.reshape(6, 4).T\n",
    "print_matrix(reshaped)\n",
    "\n",
    "print(\"\\nOriginal array after changing reshaping view: \")\n",
    "reshaped[::2, :] = -10\n",
    "print_matrix(array)"
   ]
  },
  {
   "cell_type": "code",
   "execution_count": 14,
   "id": "68854c26-f869-45d0-8770-af44c9aca3cc",
   "metadata": {},
   "outputs": [
    {
     "name": "stdout",
     "output_type": "stream",
     "text": [
      "Original array:"
     ]
    },
    {
     "data": {
      "text/plain": [
       "4×3×2 Array{Int64, 3}:\n",
       "[:, :, 1] =\n",
       " 0  4   8\n",
       " 1  5   9\n",
       " 2  6  10\n",
       " 3  7  11\n",
       "\n",
       "[:, :, 2] =\n",
       " 12  16  20\n",
       " 13  17  21\n",
       " 14  18  22\n",
       " 15  19  23"
      ]
     },
     "metadata": {},
     "output_type": "display_data"
    },
    {
     "name": "stdout",
     "output_type": "stream",
     "text": [
      "Reshaped array:"
     ]
    },
    {
     "data": {
      "text/plain": [
       "4×6 Matrix{Int64}:\n",
       " 0  4   8  12  16  20\n",
       " 1  5   9  13  17  21\n",
       " 2  6  10  14  18  22\n",
       " 3  7  11  15  19  23"
      ]
     },
     "metadata": {},
     "output_type": "display_data"
    },
    {
     "name": "stdout",
     "output_type": "stream",
     "text": [
      "\n",
      "Original array after changing reshaping view: "
     ]
    },
    {
     "data": {
      "text/plain": [
       "4×3×2 Array{Int64, 3}:\n",
       "[:, :, 1] =\n",
       " -10  -10  -10\n",
       "   1    5    9\n",
       " -10  -10  -10\n",
       "   3    7   11\n",
       "\n",
       "[:, :, 2] =\n",
       " -10  -10  -10\n",
       "  13   17   21\n",
       " -10  -10  -10\n",
       "  15   19   23"
      ]
     },
     "metadata": {},
     "output_type": "display_data"
    }
   ],
   "source": [
    ">julia-1.7\n",
    "print(\"Original array:\"); flush(stdout)\n",
    "array = collect(reshape(0:23, 4, 3, 2))\n",
    "display(array)\n",
    "\n",
    "print(\"Reshaped array:\"); flush(stdout)\n",
    "reshaped = reshape(array, 4, 6)\n",
    "display(reshaped)\n",
    "\n",
    "print(\"\\nOriginal array after changing reshaping view: \"); flush(stdout)\n",
    "reshaped[1:2:4,:] .= -10\n",
    "display(array)"
   ]
  },
  {
   "cell_type": "markdown",
   "id": "31868335-2126-436e-94b0-00188d2a70c2",
   "metadata": {},
   "source": [
    "#### Singleton dimensions\n",
    "\n",
    "Singleton dimension = dimension of size 1"
   ]
  },
  {
   "cell_type": "code",
   "execution_count": 21,
   "id": "d7d728f8-7c9e-4381-9f76-e12460b5cf98",
   "metadata": {},
   "outputs": [
    {
     "name": "stdout",
     "output_type": "stream",
     "text": [
      "Shape of original array: 4 × 5 × 1\n",
      "Shape of slice: 4 × 1 × 1\n",
      "Shape of slice after selecting first and third dimensions: 4 × 1\n",
      "Shape of slice after dropping the second dimension: 4 × 1\n",
      "Shape of slice after squeezing: 4"
     ]
    }
   ],
   "source": [
    ">java\n",
    "NDArray<Integer> array = new BasicIntegerNDArray(4, 5, 1);   //# one singleton dimension\n",
    "System.out.format(\"Shape of original array: %d × %d × %d%n\", array.shape(0), array.shape(1), array.shape(2));\n",
    "NDArray<Integer> view1 = array.slice(Range.ALL, \"3:4\", \":\"); //# two singleton dimensions\n",
    "System.out.format(\"Shape of slice: %d × %d × %d%n\", view1.shape(0), view1.shape(1), view1.shape(2));\n",
    "NDArray<Integer> view2 = view1.selectDims(0, 2);\n",
    "System.out.format(\"Shape of slice after selecting first and third dimensions: %d × %d%n\", view2.shape(0), view2.shape(1));\n",
    "NDArray<Integer> view3 = view1.dropDims(1);\n",
    "System.out.format(\"Shape of slice after dropping the second dimension: %d × %d%n\", view3.shape(0), view3.shape(1));\n",
    "NDArray<Integer> view4 = view1.squeeze();\n",
    "System.out.format(\"Shape of slice after squeezing: %d\", view4.shape(0));"
   ]
  },
  {
   "cell_type": "code",
   "execution_count": 15,
   "id": "bcf4fb6d-f7de-4099-aba6-f86ab038f4b9",
   "metadata": {},
   "outputs": [
    {
     "name": "stdout",
     "output_type": "stream",
     "text": [
      "Shape of original array: 4 × 5 × 1\n",
      "Shape of slice: 4 × 1 × 1\n",
      "Shape of slice after selecting first and third dimensions: 4 × 1\n",
      "Shape of slice after squeezing: [4 1]\n"
     ]
    }
   ],
   "source": [
    ">matlab\n",
    "array = zeros(4, 5, 1);\n",
    "fprintf(\"Shape of original array: %d × %d × %d\\n\", size(array, 1), size(array, 2), size(array, 3))\n",
    "view1 = array(:, 2:2, :);\n",
    "fprintf(\"Shape of slice: %d × %d × %d\\n\", size(view1, 1), size(view1, 2), size(view1, 3))\n",
    "view2 = reshape(view1, size(view1, 1), size(view1, 3));\n",
    "fprintf(\"Shape of slice after selecting first and third dimensions: %d × %d\\n\", size(view2, 1), size(view2, 2))\n",
    "view3 = squeeze(view1);\n",
    "fprintf(\"Shape of slice after squeezing: %s\", mat2str(size(view3)))"
   ]
  },
  {
   "cell_type": "code",
   "execution_count": 16,
   "id": "08b46a47-df44-491e-831f-f9b63f7a485d",
   "metadata": {},
   "outputs": [
    {
     "name": "stdout",
     "output_type": "stream",
     "text": [
      "Shape of original array: 4 × 5 × 1\n",
      "Shape of slice: 4 × 1 × 1\n",
      "Shape of slice after dropping the second dimension: 4 × 1\n",
      "Shape of slice after squeezing: 4\n"
     ]
    }
   ],
   "source": [
    ">python\n",
    "array = np.zeros((4, 5, 1))\n",
    "print(\"Shape of original array:\", \" × \".join(map(str, array.shape)))\n",
    "view1 = array[:, 3:4, :]\n",
    "print(\"Shape of slice:\", \" × \".join(map(str, view1.shape)))\n",
    "view2 = view1.squeeze(1)\n",
    "print(\"Shape of slice after dropping the second dimension:\", \" × \".join(map(str, view2.shape)))\n",
    "view3 = view1.squeeze()\n",
    "print(\"Shape of slice after squeezing:\", \" × \".join(map(str, view3.shape)))"
   ]
  },
  {
   "cell_type": "code",
   "execution_count": 15,
   "id": "5a27b054-fada-485e-83ef-1464e353aecd",
   "metadata": {},
   "outputs": [
    {
     "name": "stdout",
     "output_type": "stream",
     "text": [
      "Shape of original array: 4 × 5 × 1\n",
      "Shape of slice: 4 × 1 × 1\n",
      "Shape of slice after dropping the second dimension: 4 × 1\n",
      "Shape of slice after squeezing: 4\n"
     ]
    }
   ],
   "source": [
    ">julia-1.7\n",
    "array = zeros(4, 5, 1)\n",
    "println(\"Shape of original array: \", join(size(array), \" × \"))\n",
    "view1 = array[:, 2:2, :]\n",
    "println(\"Shape of slice: \", join(size(view1), \" × \"))\n",
    "view2 = dropdims(view1, dims=2)\n",
    "println(\"Shape of slice after dropping the second dimension: \", join(size(view2), \" × \"))\n",
    "view3 = dropdims(view1, dims=tuple(findall(size(view1) .== 1)...)) # In Julia, there is no direct equivalent of squeeze deliberately\n",
    "println(\"Shape of slice after squeezing: \", join(size(view3), \" × \"))"
   ]
  },
  {
   "cell_type": "markdown",
   "id": "81a66b64-c465-4cf0-a826-480ddaa77315",
   "metadata": {},
   "source": [
    "### Transposition\n",
    "\n",
    "More generally: Change the order of axes/dimensions.\n",
    "In 2D, there are only two permutations of the dimensions: normal order, and the transposed order."
   ]
  },
  {
   "cell_type": "code",
   "execution_count": 22,
   "id": "984743c6-94ab-408a-abb6-5e43fad9e8d8",
   "metadata": {},
   "outputs": [
    {
     "name": "stdout",
     "output_type": "stream",
     "text": [
      "Original array: basic NDArray<Integer>(4 × 5)\n",
      "     0\t     4\t     8\t    12\t    16\t\n",
      "     1\t     5\t     9\t    13\t    17\t\n",
      "     2\t     6\t    10\t    14\t    18\t\n",
      "     3\t     7\t    11\t    15\t    19\t\n",
      "\n",
      "Transposed array: basic NDArrayView<Integer>(5 × 4)\n",
      "     0\t     1\t     2\t     3\t\n",
      "     4\t     5\t     6\t     7\t\n",
      "     8\t     9\t    10\t    11\t\n",
      "    12\t    13\t    14\t    15\t\n",
      "    16\t    17\t    18\t    19\t\n",
      "\n",
      "Original array after overwriting the first row in the transposed view: basic NDArray<Integer>(4 × 5)\n",
      "     0\t     4\t     8\t    12\t    16\t\n",
      "     0\t     5\t     9\t    13\t    17\t\n",
      "     0\t     6\t    10\t    14\t    18\t\n",
      "     0\t     7\t    11\t    15\t    19\t\n",
      "\n"
     ]
    }
   ],
   "source": [
    ">java\n",
    "NDArray<Integer> array = new BasicIntegerNDArray(4, 5).fillUsingLinearIndices(i -> i);\n",
    "System.out.println(\"Original array: \" + array.contentToString());\n",
    "\n",
    "NDArray<Integer> transposed = array.permuteDims(1,0);\n",
    "System.out.println(\"Transposed array: \" + transposed.contentToString());\n",
    "\n",
    "transposed.slice(0, \":\").fill(0);\n",
    "System.out.println(\"Original array after overwriting the first row in the transposed view: \" + array.contentToString());"
   ]
  },
  {
   "cell_type": "code",
   "execution_count": 16,
   "id": "ec321cfd-da85-41e8-a909-29e0088f020b",
   "metadata": {},
   "outputs": [
    {
     "name": "stdout",
     "output_type": "stream",
     "text": [
      "Original array:\n",
      "     0     4     8    12    16\n",
      "     1     5     9    13    17\n",
      "     2     6    10    14    18\n",
      "     3     7    11    15    19\n",
      "\n",
      "Transposed array:\n",
      "     0     1     2     3\n",
      "     4     5     6     7\n",
      "     8     9    10    11\n",
      "    12    13    14    15\n",
      "    16    17    18    19\n",
      "\n",
      "Original array after overwriting the first row in the transposed view:\n",
      "     0     4     8    12    16\n",
      "     1     5     9    13    17\n",
      "     2     6    10    14    18\n",
      "     3     7    11    15    19\n",
      "\n",
      "\n"
     ]
    }
   ],
   "source": [
    ">matlab\n",
    "disp(\"Original array:\")\n",
    "array = reshape(0:19, 4, 5);\n",
    "disp(array)\n",
    "\n",
    "disp(\"Transposed array:\")\n",
    "transposed = array';\n",
    "transposed = permute(array, [2,1]); %# general solution for higher dimensions\n",
    "disp(transposed)\n",
    "\n",
    "disp(\"Original array after overwriting the first row in the transposed view:\")\n",
    "transposed(1,:) = 0;                %# Matlab creates a copy here seeing that we want to change the content of the original array\n",
    "disp(array)                         %# Therefore, no changes are reflected in the original array"
   ]
  },
  {
   "cell_type": "code",
   "execution_count": 17,
   "id": "ec3fc35a-8a8d-4971-9eab-17c6625a6f3e",
   "metadata": {},
   "outputs": [
    {
     "name": "stdout",
     "output_type": "stream",
     "text": [
      "Original array:\n",
      "[[ 0  4  8 12 16]\n",
      " [ 1  5  9 13 17]\n",
      " [ 2  6 10 14 18]\n",
      " [ 3  7 11 15 19]]\n",
      "\n",
      "Transposed array:\n",
      "[[ 0  1  2  3]\n",
      " [ 4  5  6  7]\n",
      " [ 8  9 10 11]\n",
      " [12 13 14 15]\n",
      " [16 17 18 19]]\n",
      "\n",
      "Original array after overwriting the first row in the transposed view:\n",
      "[[ 0  4  8 12 16]\n",
      " [ 0  5  9 13 17]\n",
      " [ 0  6 10 14 18]\n",
      " [ 0  7 11 15 19]]\n"
     ]
    }
   ],
   "source": [
    ">python\n",
    "print(\"Original array:\")\n",
    "array = np.arange(0, 20).reshape(5, 4).T\n",
    "print_matrix(array)\n",
    "\n",
    "print(\"\\nTransposed array:\")\n",
    "transposed = array.T;\n",
    "transposed = array.transpose((1,0))\n",
    "print_matrix(transposed)\n",
    "\n",
    "print(\"\\nOriginal array after overwriting the first row in the transposed view:\")\n",
    "transposed[0,:] = 0\n",
    "print_matrix(array)"
   ]
  },
  {
   "cell_type": "code",
   "execution_count": 16,
   "id": "24ccac19-0cf0-4eca-9926-583b001b8088",
   "metadata": {},
   "outputs": [
    {
     "name": "stdout",
     "output_type": "stream",
     "text": [
      "Original array:"
     ]
    },
    {
     "data": {
      "text/plain": [
       "4×5 Matrix{Int64}:\n",
       " 0  4   8  12  16\n",
       " 1  5   9  13  17\n",
       " 2  6  10  14  18\n",
       " 3  7  11  15  19"
      ]
     },
     "metadata": {},
     "output_type": "display_data"
    },
    {
     "name": "stdout",
     "output_type": "stream",
     "text": [
      "\n",
      "Transposed array:"
     ]
    },
    {
     "data": {
      "text/plain": [
       "5×4 adjoint(::Matrix{Int64}) with eltype Int64:\n",
       "  0   1   2   3\n",
       "  4   5   6   7\n",
       "  8   9  10  11\n",
       " 12  13  14  15\n",
       " 16  17  18  19"
      ]
     },
     "metadata": {},
     "output_type": "display_data"
    },
    {
     "name": "stdout",
     "output_type": "stream",
     "text": [
      "\n",
      "Original array after overwriting the first row in the transposed view:"
     ]
    },
    {
     "data": {
      "text/plain": [
       "4×5 Matrix{Int64}:\n",
       " 0  4   8  12  16\n",
       " 0  5   9  13  17\n",
       " 0  6  10  14  18\n",
       " 0  7  11  15  19"
      ]
     },
     "metadata": {},
     "output_type": "display_data"
    }
   ],
   "source": [
    ">julia-1.7\n",
    "print(\"Original array:\"); flush(stdout)\n",
    "array = collect(reshape(0:19, 4, 5))\n",
    "display(array)\n",
    "\n",
    "print(\"\\nTransposed array:\"); flush(stdout)\n",
    "transposed = permutedims(array, (2,1)) # this version creates a copy!\n",
    "transposed = array'                    # this version creates a view!\n",
    "display(transposed)\n",
    "\n",
    "print(\"\\nOriginal array after overwriting the first row in the transposed view:\"); flush(stdout)\n",
    "transposed[1,:] .= 0\n",
    "display(array)"
   ]
  },
  {
   "cell_type": "markdown",
   "id": "171ae62c-c83d-4600-bf0e-2a8ef92b0741",
   "metadata": {},
   "source": [
    "## Arithmetics"
   ]
  },
  {
   "cell_type": "markdown",
   "id": "097b8331-5562-4847-be3b-74baf97ad83a",
   "metadata": {},
   "source": [
    "### Piecewise arithmetic operations"
   ]
  },
  {
   "cell_type": "code",
   "execution_count": 23,
   "id": "ddbb7fe6-5e84-466c-a189-3fd86ae53df5",
   "metadata": {},
   "outputs": [
    {
     "name": "stdout",
     "output_type": "stream",
     "text": [
      "Original matrix: basic NDArray<Integer>(4 × 5)\n",
      "     1\t     5\t     9\t    13\t    17\t\n",
      "     2\t     6\t    10\t    14\t    18\t\n",
      "     3\t     7\t    11\t    15\t    19\t\n",
      "     4\t     8\t    12\t    16\t    20\t\n",
      "\n",
      "New matrix #1 (original + 100): basic NDArray<Integer>(4 × 5)\n",
      "   101\t   105\t   109\t   113\t   117\t\n",
      "   102\t   106\t   110\t   114\t   118\t\n",
      "   103\t   107\t   111\t   115\t   119\t\n",
      "   104\t   108\t   112\t   116\t   120\t\n",
      "\n",
      "New matrix #2 ((original + 100) / original / 3): basic NDArray<Integer>(4 × 5)\n",
      "    33\t     7\t     4\t     2\t     2\t\n",
      "    17\t     5\t     3\t     2\t     2\t\n",
      "    11\t     5\t     3\t     2\t     2\t\n",
      "     8\t     4\t     3\t     2\t     2\t\n",
      "\n",
      "New matrix #2 after multiplying in-place each element with -1: basic NDArray<Integer>(4 × 5)\n",
      "   -33\t    -7\t    -4\t    -2\t    -2\t\n",
      "   -17\t    -5\t    -3\t    -2\t    -2\t\n",
      "   -11\t    -5\t    -3\t    -2\t    -2\t\n",
      "    -8\t    -4\t    -3\t    -2\t    -2\t\n",
      "\n",
      "New matrix #2 after subtracting the original matrix in-place: basic NDArray<Integer>(4 × 5)\n",
      "   -34\t   -12\t   -13\t   -15\t   -19\t\n",
      "   -19\t   -11\t   -13\t   -16\t   -20\t\n",
      "   -14\t   -12\t   -14\t   -17\t   -21\t\n",
      "   -12\t   -12\t   -15\t   -18\t   -22\t\n",
      "\n",
      "Original matrix (not changed): basic NDArray<Integer>(4 × 5)\n",
      "     1\t     5\t     9\t    13\t    17\t\n",
      "     2\t     6\t    10\t    14\t    18\t\n",
      "     3\t     7\t    11\t    15\t    19\t\n",
      "     4\t     8\t    12\t    16\t    20\t\n",
      "\n"
     ]
    }
   ],
   "source": [
    ">java\n",
    "NDArray<Integer> original = new BasicIntegerNDArray(4, 5).fillUsingLinearIndices(i -> i + 1);\n",
    "System.out.println(\"Original matrix: \" + original.contentToString());\n",
    "\n",
    "NDArray<Integer> increasedBy100 = original.add(100);\n",
    "System.out.println(\"New matrix #1 (original + 100): \" + increasedBy100.contentToString());\n",
    "\n",
    "NDArray<Integer> result = increasedBy100.divide(original, 3);\n",
    "System.out.println(\"New matrix #2 ((original + 100) / original / 3): \" + result.contentToString());\n",
    "\n",
    "result.multiplyInplace(-1);\n",
    "System.out.println(\"New matrix #2 after multiplying in-place each element with -1: \" + result.contentToString());\n",
    "\n",
    "result.subtractInplace(original);\n",
    "System.out.println(\"New matrix #2 after subtracting the original matrix in-place: \" + result.contentToString());\n",
    "\n",
    "System.out.println(\"Original matrix (not changed): \" + original.contentToString());"
   ]
  },
  {
   "cell_type": "code",
   "execution_count": 17,
   "id": "0a0dfdf6-3251-4672-a939-02ed321d8f55",
   "metadata": {},
   "outputs": [
    {
     "name": "stdout",
     "output_type": "stream",
     "text": [
      "Original matrix:\n",
      "     1     5     9    13    17\n",
      "     2     6    10    14    18\n",
      "     3     7    11    15    19\n",
      "     4     8    12    16    20\n",
      "\n",
      "New matrix #1 (original + 100):\n",
      "   101   105   109   113   117\n",
      "   102   106   110   114   118\n",
      "   103   107   111   115   119\n",
      "   104   108   112   116   120\n",
      "\n",
      "New matrix #2 ((original + 100) / original / 3):\n",
      "    33     7     4     2     2\n",
      "    17     5     3     2     2\n",
      "    11     5     3     2     2\n",
      "     8     4     3     2     2\n",
      "\n",
      "New matrix #2 after multiplying in-place each element with -1:\n",
      "   -33    -7    -4    -2    -2\n",
      "   -17    -5    -3    -2    -2\n",
      "   -11    -5    -3    -2    -2\n",
      "    -8    -4    -3    -2    -2\n",
      "\n",
      "New matrix #2 after subtracting the original matrix in-place:\n",
      "     1     5     9    13    17\n",
      "     2     6    10    14    18\n",
      "     3     7    11    15    19\n",
      "     4     8    12    16    20\n",
      "\n",
      "Original matrix (not changed):\n",
      "     1     5     9    13    17\n",
      "     2     6    10    14    18\n",
      "     3     7    11    15    19\n",
      "     4     8    12    16    20\n",
      "\n",
      "\n"
     ]
    }
   ],
   "source": [
    ">matlab\n",
    "disp(\"Original matrix:\")\n",
    "original = reshape(1:20, 4, 5);\n",
    "disp(original)\n",
    "\n",
    "disp(\"New matrix #1 (original + 100):\")\n",
    "increasedBy100 = original + 100;\n",
    "disp(increasedBy100)\n",
    "\n",
    "disp(\"New matrix #2 ((original + 100) / original / 3):\")\n",
    "result = floor(increasedBy100 ./ original / 3);\n",
    "disp(result)\n",
    "\n",
    "disp(\"New matrix #2 after multiplying in-place each element with -1:\")\n",
    "result = result * -1;\n",
    "disp(result)\n",
    "\n",
    "disp(\"New matrix #2 after subtracting the original matrix in-place:\")\n",
    "result = result - original;\n",
    "disp(original)\n",
    "\n",
    "disp(\"Original matrix (not changed):\")\n",
    "disp(original)"
   ]
  },
  {
   "cell_type": "code",
   "execution_count": 18,
   "id": "6e218b73-6bfa-484b-9c97-e1250984a0dc",
   "metadata": {},
   "outputs": [
    {
     "name": "stdout",
     "output_type": "stream",
     "text": [
      "Original matrix:\n",
      "[[ 1  5  9 13 17]\n",
      " [ 2  6 10 14 18]\n",
      " [ 3  7 11 15 19]\n",
      " [ 4  8 12 16 20]]\n",
      "\n",
      "New matrix #1 (original + 100):\n",
      "[[101 105 109 113 117]\n",
      " [102 106 110 114 118]\n",
      " [103 107 111 115 119]\n",
      " [104 108 112 116 120]]\n",
      "\n",
      "New matrix #2 ((original + 100) / original / 3):\n",
      "[[33.  7.  4.  2.  2.]\n",
      " [17.  5.  3.  2.  2.]\n",
      " [11.  5.  3.  2.  2.]\n",
      " [ 8.  4.  3.  2.  2.]]\n",
      "\n",
      "New matrix #2 after multiplying in-place each element with -1:\n",
      "[[-33.  -7.  -4.  -2.  -2.]\n",
      " [-17.  -5.  -3.  -2.  -2.]\n",
      " [-11.  -5.  -3.  -2.  -2.]\n",
      " [ -8.  -4.  -3.  -2.  -2.]]\n",
      "\n",
      "New matrix #2 after subtracting the original matrix in-place:\n",
      "[[-34. -12. -13. -15. -19.]\n",
      " [-19. -11. -13. -16. -20.]\n",
      " [-14. -12. -14. -17. -21.]\n",
      " [-12. -12. -15. -18. -22.]]\n",
      "\n",
      "Original matrix (not changed):\n",
      "[[ 1  5  9 13 17]\n",
      " [ 2  6 10 14 18]\n",
      " [ 3  7 11 15 19]\n",
      " [ 4  8 12 16 20]]\n"
     ]
    }
   ],
   "source": [
    ">python\n",
    "print(\"Original matrix:\")\n",
    "original = np.arange(1, 21).reshape(5, 4).T;\n",
    "print_matrix(original)\n",
    "\n",
    "print(\"\\nNew matrix #1 (original + 100):\")\n",
    "increasedBy100 = original + 100;\n",
    "print_matrix(increasedBy100)\n",
    "\n",
    "print(\"\\nNew matrix #2 ((original + 100) / original / 3):\")\n",
    "result = np.floor(increasedBy100 / original / 3);\n",
    "print_matrix(result)\n",
    "\n",
    "print(\"\\nNew matrix #2 after multiplying in-place each element with -1:\")\n",
    "result *= -1;\n",
    "print_matrix(result)\n",
    "\n",
    "print(\"\\nNew matrix #2 after subtracting the original matrix in-place:\")\n",
    "result -= original;\n",
    "print_matrix(result)\n",
    "\n",
    "print(\"\\nOriginal matrix (not changed):\")\n",
    "print_matrix(original)"
   ]
  },
  {
   "cell_type": "code",
   "execution_count": 17,
   "id": "68ab6dcf-c5ff-4b7a-9c70-9e1a7603cc16",
   "metadata": {},
   "outputs": [
    {
     "name": "stdout",
     "output_type": "stream",
     "text": [
      "Original matrix:"
     ]
    },
    {
     "data": {
      "text/plain": [
       "4×5 reshape(::UnitRange{Int64}, 4, 5) with eltype Int64:\n",
       " 1  5   9  13  17\n",
       " 2  6  10  14  18\n",
       " 3  7  11  15  19\n",
       " 4  8  12  16  20"
      ]
     },
     "metadata": {},
     "output_type": "display_data"
    },
    {
     "name": "stdout",
     "output_type": "stream",
     "text": [
      "\n",
      "New matrix #1 (original + 100):"
     ]
    },
    {
     "data": {
      "text/plain": [
       "4×5 Matrix{Int64}:\n",
       " 101  105  109  113  117\n",
       " 102  106  110  114  118\n",
       " 103  107  111  115  119\n",
       " 104  108  112  116  120"
      ]
     },
     "metadata": {},
     "output_type": "display_data"
    },
    {
     "name": "stdout",
     "output_type": "stream",
     "text": [
      "\n",
      "New matrix #2 ((original + 100) / original / 3):"
     ]
    },
    {
     "data": {
      "text/plain": [
       "4×5 Matrix{Int64}:\n",
       " 33  7  4  2  2\n",
       " 17  5  3  2  2\n",
       " 11  5  3  2  2\n",
       "  8  4  3  2  2"
      ]
     },
     "metadata": {},
     "output_type": "display_data"
    },
    {
     "name": "stdout",
     "output_type": "stream",
     "text": [
      "\n",
      "New matrix #2 after multiplying in-place each element with -1:"
     ]
    },
    {
     "data": {
      "text/plain": [
       "4×5 Matrix{Int64}:\n",
       " -33  -7  -4  -2  -2\n",
       " -17  -5  -3  -2  -2\n",
       " -11  -5  -3  -2  -2\n",
       "  -8  -4  -3  -2  -2"
      ]
     },
     "metadata": {},
     "output_type": "display_data"
    },
    {
     "name": "stdout",
     "output_type": "stream",
     "text": [
      "\n",
      "New matrix #2 after subtracting the original matrix in-place:"
     ]
    },
    {
     "data": {
      "text/plain": [
       "4×5 Matrix{Int64}:\n",
       " -34  -12  -13  -15  -19\n",
       " -19  -11  -13  -16  -20\n",
       " -14  -12  -14  -17  -21\n",
       " -12  -12  -15  -18  -22"
      ]
     },
     "metadata": {},
     "output_type": "display_data"
    },
    {
     "name": "stdout",
     "output_type": "stream",
     "text": [
      "\n",
      "Original matrix (not changed):"
     ]
    },
    {
     "data": {
      "text/plain": [
       "4×5 reshape(::UnitRange{Int64}, 4, 5) with eltype Int64:\n",
       " 1  5   9  13  17\n",
       " 2  6  10  14  18\n",
       " 3  7  11  15  19\n",
       " 4  8  12  16  20"
      ]
     },
     "metadata": {},
     "output_type": "display_data"
    }
   ],
   "source": [
    ">julia-1.7\n",
    "print(\"Original matrix:\"); flush(stdout)\n",
    "original = reshape(1:20, 4, 5)\n",
    "display(original)\n",
    "\n",
    "print(\"\\nNew matrix #1 (original + 100):\"); flush(stdout)\n",
    "increasedBy100 = original .+ 100\n",
    "display(increasedBy100)\n",
    "\n",
    "print(\"\\nNew matrix #2 ((original + 100) / original / 3):\"); flush(stdout)\n",
    "result = increasedBy100 .÷ original .÷ 3\n",
    "display(result)\n",
    "\n",
    "print(\"\\nNew matrix #2 after multiplying in-place each element with -1:\"); flush(stdout)\n",
    "result .*= -1\n",
    "display(result)\n",
    "\n",
    "print(\"\\nNew matrix #2 after subtracting the original matrix in-place:\"); flush(stdout)\n",
    "result .-= original\n",
    "display(result)\n",
    "\n",
    "print(\"\\nOriginal matrix (not changed):\"); flush(stdout)\n",
    "display(original)"
   ]
  },
  {
   "cell_type": "markdown",
   "id": "3962ad35-af78-4607-af9f-2df7ffa811c7",
   "metadata": {},
   "source": [
    "### Summation"
   ]
  },
  {
   "cell_type": "code",
   "execution_count": 24,
   "id": "e8c4a1ae-bdd2-40c4-bdf3-11f88ac068c1",
   "metadata": {},
   "outputs": [
    {
     "name": "stdout",
     "output_type": "stream",
     "text": [
      "Sum of all elements: 1770\n",
      "Sum of elements in each slices: basic NDArray<Integer>(3)\n",
      "   190\t   590\t   990\t\n"
     ]
    }
   ],
   "source": [
    ">java\n",
    "NDArray<Integer> array = new BasicIntegerNDArray(4, 5, 3).fillUsingLinearIndices(i -> i);\n",
    "System.out.println(\"Sum of all elements: \" + array.sum());\n",
    "System.out.println(\"Sum of elements in each slices: \" + array.sum(0,1).contentToString());"
   ]
  },
  {
   "cell_type": "code",
   "execution_count": 18,
   "id": "a16678b0-3ea5-4eb0-b9b4-087c26efb02b",
   "metadata": {},
   "outputs": [
    {
     "name": "stdout",
     "output_type": "stream",
     "text": [
      "Sum of all elements: 1770\n",
      "Sum of elements in each slices:\n",
      "   190   590   990\n",
      "\n",
      "\n"
     ]
    }
   ],
   "source": [
    ">matlab\n",
    "array = reshape(0:59, 4, 5, 3);\n",
    "fprintf(\"Sum of all elements: %d\\n\", sum(array, 'all'))\n",
    "disp(\"Sum of elements in each slices:\")\n",
    "disp(squeeze(sum(array, [1 2]))')"
   ]
  },
  {
   "cell_type": "code",
   "execution_count": 21,
   "id": "381a5c0c-e118-4ce7-b5fb-be54faaf9abd",
   "metadata": {},
   "outputs": [
    {
     "name": "stdout",
     "output_type": "stream",
     "text": [
      "Sum of all elements: 1770\n",
      "Sum of elements in each slices: [190 590 990]\n"
     ]
    }
   ],
   "source": [
    ">python\n",
    "array = np.arange(0, 60).reshape(3,5,4).transpose((2,1,0))\n",
    "print(\"Sum of all elements:\", array.sum())\n",
    "print(\"Sum of elements in each slices:\", array.sum((0,1)))"
   ]
  },
  {
   "cell_type": "code",
   "execution_count": 19,
   "id": "bd138bbb-feac-43d8-b959-37c50aa28b6a",
   "metadata": {},
   "outputs": [
    {
     "name": "stdout",
     "output_type": "stream",
     "text": [
      "Sum of all elements: 1770\n",
      "Sum of elements in each slices: [190, 590, 990]\n"
     ]
    }
   ],
   "source": [
    ">julia-1.7\n",
    "array = reshape(0:59, 4, 5, 3)\n",
    "println(\"Sum of all elements: \", sum(array))\n",
    "println(\"Sum of elements in each slices: \", dropdims(sum(array, dims=(1,2)), dims=(1,2)))"
   ]
  },
  {
   "cell_type": "markdown",
   "id": "8365703a-7484-4994-9b2e-e10579be1996",
   "metadata": {},
   "source": [
    "### Norms"
   ]
  },
  {
   "cell_type": "code",
   "execution_count": 48,
   "id": "da53d9ab-039f-49da-af88-0e77d49e66c5",
   "metadata": {},
   "outputs": [
    {
     "name": "stdout",
     "output_type": "stream",
     "text": [
      "𝐱 = [-9, -8, -7, -6, -5, -4, -3, -2, -1, 0, 1, 2, 3, 4, 5, 6, 7, 8, 9, 10]\n",
      "‖𝐱‖₀ = |{xᵢ ≠ 0 : i ∈ 1..N}| = 19\t(Number of non-zero elements, 0-pseudonorm)\n",
      "‖𝐱‖₁ = ∑|xᵢ| = 100\t\t\t(Sum of absolute values, 1-norm)\n",
      "‖𝐱‖₂ = (∑ xᵢ²)^½ = 25,884358\t\t(Frobenius norm = Euclidean norm after reshaping array to 1D vector, 2-norm)\n",
      "‖x‖ₚ = (∑|xᵢ|ᵖ)^(1/p) = 15,371201\t(p-norm)\n",
      "‖𝐱‖∞ = max{|xᵢ|} = 10\t\t\t(inf-norm)\n"
     ]
    }
   ],
   "source": [
    ">java\n",
    "import java.util.stream.Collectors;\n",
    "\n",
    "NDArray<Integer> array = new BasicIntegerNDArray(4, 5).fillUsingLinearIndices(i -> i - 9);\n",
    "System.out.println(\"𝐱 = [\" + array.stream().map(Object::toString).collect(Collectors.joining(\", \")) + \"]\");\n",
    "System.out.format(\"‖𝐱‖₀ = |{xᵢ ≠ 0 : i ∈ 1..N}| = %.0f\\t(Number of non-zero elements, 0-pseudonorm)%n\", array.norm(0));\n",
    "System.out.format(\"‖𝐱‖₁ = ∑|xᵢ| = %.0f\\t\\t\\t(Sum of absolute values, 1-norm)%n\", array.norm(1));\n",
    "System.out.format(\"‖𝐱‖₂ = (∑ xᵢ²)^½ = %f\\t\\t(Frobenius norm = Euclidean norm after reshaping array to 1D vector, 2-norm)%n\", array.norm(2)); //# array.norm() also calculates Euclidean norm\n",
    "System.out.format(\"‖x‖ₚ = (∑|xᵢ|ᵖ)^(1/p) = %f\\t(p-norm)%n\", array.norm(3.5));\n",
    "System.out.format(\"‖𝐱‖∞ = max{|xᵢ|} = %.0f\\t\\t\\t(inf-norm)%n\", array.norm(Double.POSITIVE_INFINITY));"
   ]
  },
  {
   "cell_type": "code",
   "execution_count": 37,
   "id": "4b31a41f-ccce-4d9b-ac84-f51766a08e14",
   "metadata": {},
   "outputs": [
    {
     "name": "stdout",
     "output_type": "stream",
     "text": [
      "𝐱 = \n",
      "    -9    -8    -7    -6    -5    -4    -3    -2    -1     0     1     2     3     4     5     6     7     8     9    10\n",
      "\n",
      "‖𝐱‖₀ = |{xᵢ ≠ 0 : i ∈ 1..N}| = 19\t(Number of non-zero elements, 0-pseudonorm)\n",
      "‖𝐱‖₁ = ∑|xᵢ| = 100\t\t\t(Sum of absolute values, 1-norm)\n",
      "‖𝐱‖₂ = (∑ xᵢ²)^½ = 25.884358\t\t(Frobenius norm = Euclidean norm after reshaping array to 1D vector, 2-norm)\n",
      "‖x‖ₚ = (∑|xᵢ|ᵖ)^(1/p) = 15.371201\t(p-norm)\n",
      "‖𝐱‖∞ = max{|xᵢ|} = 26\t\t\t(inf-norm)\n",
      "\n"
     ]
    }
   ],
   "source": [
    ">matlab\n",
    "array = reshape(-9:10, 4, 5);\n",
    "disp(\"𝐱 = \")\n",
    "disp(array(:)')\n",
    "fprintf(\"‖𝐱‖₀ = |{xᵢ ≠ 0 : i ∈ 1..N}| = %.0f\\t(Number of non-zero elements, 0-pseudonorm)\\n\", sum(array ~= 0, 'all'))\n",
    "fprintf(\"‖𝐱‖₁ = ∑|xᵢ| = %.0f\\t\\t\\t(Sum of absolute values, 1-norm)\\n\", sum(abs(array), 'all'))\n",
    "fprintf(\"‖𝐱‖₂ = (∑ xᵢ²)^½ = %f\\t\\t(Frobenius norm = Euclidean norm after reshaping array to 1D vector, 2-norm)\\n\", norm(array, 'fro'))\n",
    "fprintf(\"‖x‖ₚ = (∑|xᵢ|ᵖ)^(1/p) = %f\\t(p-norm)\\n\", sum(abs(array) .^ 3.5, 'all') .^ (1/3.5))\n",
    "fprintf(\"‖𝐱‖∞ = max{|xᵢ|} = %.0f\\t\\t\\t(inf-norm)\\n\", norm(array, 'inf'))"
   ]
  },
  {
   "cell_type": "code",
   "execution_count": 45,
   "id": "373a655a-d484-4da2-ae4b-3a5b0d13e8cd",
   "metadata": {},
   "outputs": [
    {
     "name": "stdout",
     "output_type": "stream",
     "text": [
      "𝐱 = [-9 -5 -1  3  7 -8 -4  0  4  8 -7 -3  1  5  9 -6 -2  2  6 10]\n",
      "‖𝐱‖₀ = |{xᵢ ≠ 0 : i ∈ 1..N}| = 19\t(Number of non-zero elements, 0-pseudonorm)\n",
      "‖𝐱‖₁ = ∑|xᵢ| = 100\t\t\t(Sum of absolute values, 1-norm)\n",
      "‖𝐱‖₂ = (∑ xᵢ²)^½ = 25.884358\t\t(Frobenius norm = Euclidean norm after reshaping array to 1D vector, 2-norm)\n",
      "‖x‖ₚ = (∑|xᵢ|ᵖ)^(1/p) = 15.371201\t(p-norm)\n",
      "‖𝐱‖∞ = max{|xᵢ|} = 10\t\t\t(inf-norm)\n"
     ]
    }
   ],
   "source": [
    ">python\n",
    "from numpy import linalg as LA\n",
    "\n",
    "array = np.arange(-9, 11).reshape(5,4).T\n",
    "print(\"𝐱 =\", array.flatten()) \n",
    "print(f\"‖𝐱‖₀ = |{{xᵢ ≠ 0 : i ∈ 1..N}}| = {LA.norm(array.flat, 0):.0f}\\t(Number of non-zero elements, 0-pseudonorm)\")\n",
    "print(f\"‖𝐱‖₁ = ∑|xᵢ| = {LA.norm(array.flat, 1):.0f}\\t\\t\\t(Sum of absolute values, 1-norm)\")\n",
    "print(f\"‖𝐱‖₂ = (∑ xᵢ²)^½ = {LA.norm(array.flat, 2):.6f}\\t\\t(Frobenius norm = Euclidean norm after reshaping array to 1D vector, 2-norm)\")\n",
    "print(f\"‖x‖ₚ = (∑|xᵢ|ᵖ)^(1/p) = {LA.norm(array.flat, 3.5):.6f}\\t(p-norm)\")\n",
    "print(f\"‖𝐱‖∞ = max{{|xᵢ|}} = {LA.norm(array.flat, np.inf):.0f}\\t\\t\\t(inf-norm)\")"
   ]
  },
  {
   "cell_type": "code",
   "execution_count": 30,
   "id": "5e158662-6f37-4bba-b0df-fe1704fbe7f4",
   "metadata": {},
   "outputs": [
    {
     "name": "stdout",
     "output_type": "stream",
     "text": [
      "𝐱 = [-9, -8, -7, -6, -5, -4, -3, -2, -1, 0, 1, 2, 3, 4, 5, 6, 7, 8, 9, 10]\n",
      "‖𝐱‖₀ = |{{xᵢ ≠ 0 : i ∈ 1..N}}| = 19\t(Number of non-zero elements, 0-pseudonorm)\n",
      "‖𝐱‖₁ = ∑|xᵢ| = 100\t\t\t(Sum of absolute values, 1-norm)\n",
      "‖𝐱‖₂ = (∑ xᵢ²)^½ = 25.884358\t\t(Frobenius norm = Euclidean norm after reshaping array to 1D vector, 2-norm)\n",
      "‖x‖ₚ = (∑|xᵢ|ᵖ)^(1/p) = 15.371201\t(p-norm)\n",
      "‖𝐱‖∞ = max{{|xᵢ|}} = 10\t\t\t(inf-norm)\n"
     ]
    }
   ],
   "source": [
    ">julia-1.7\n",
    "using LinearAlgebra\n",
    "\n",
    "array = collect(reshape(-9:10, 4, 5))\n",
    "println(\"𝐱 = \", vec(array)) \n",
    "println(\"‖𝐱‖₀ = |{{xᵢ ≠ 0 : i ∈ 1..N}}| = $(round(Int64, norm(array, 0)))\\t(Number of non-zero elements, 0-pseudonorm)\")\n",
    "println(\"‖𝐱‖₁ = ∑|xᵢ| = $(round(Int64, norm(array, 1)))\\t\\t\\t(Sum of absolute values, 1-norm)\")\n",
    "println(\"‖𝐱‖₂ = (∑ xᵢ²)^½ = $(round(norm(array, 2), digits=6))\\t\\t(Frobenius norm = Euclidean norm after reshaping array to 1D vector, 2-norm)\")\n",
    "println(\"‖x‖ₚ = (∑|xᵢ|ᵖ)^(1/p) = $(round(norm(array, 3.5), digits=6))\\t(p-norm)\")\n",
    "println(\"‖𝐱‖∞ = max{{|xᵢ|}} = $(round(Int64, norm(array, Inf)))\\t\\t\\t(inf-norm)\")"
   ]
  },
  {
   "cell_type": "markdown",
   "id": "4649576d-7497-4ebc-92c5-598d8fe47eed",
   "metadata": {},
   "source": [
    "## Utility functions\n",
    "\n",
    "This functionality is fully Java-related; therefore, only Java examples are provided.\n",
    "\n",
    "Let's create a random matrix filled with values between 0 and 1! We will use this array in the following examples."
   ]
  },
  {
   "cell_type": "code",
   "execution_count": 77,
   "id": "bf6a2b89-895b-49fd-8cb7-77966057145c",
   "metadata": {},
   "outputs": [],
   "source": [
    ">java\n",
    "NDArray<Double> array = new BasicDoubleNDArray(100,100,20).fillUsingLinearIndices(i -> Math.random());"
   ]
  },
  {
   "cell_type": "markdown",
   "id": "bb0b877e-6fe6-4163-801d-26b2209ea95c",
   "metadata": {},
   "source": [
    "### Stream indices\n",
    "\n",
    "Alternative for multiple nested loops, and it also makes the parallelization of iterations easy."
   ]
  },
  {
   "cell_type": "markdown",
   "id": "c88f5827-5b04-47b7-b234-2016d9794e31",
   "metadata": {},
   "source": [
    "#### Stream Cartesian indices\n",
    "\n",
    "**Example:** Let's print the center coordinates of 3×3 blocks in which the average of values is above 0.85"
   ]
  },
  {
   "cell_type": "markdown",
   "id": "28870b27-14d9-4c88-8ba0-f6aa1f1bf413",
   "metadata": {},
   "source": [
    "Conventional Java solution:"
   ]
  },
  {
   "cell_type": "code",
   "execution_count": 78,
   "id": "4180bfb0-f071-418e-8dc5-0ed59d634f5c",
   "metadata": {},
   "outputs": [
    {
     "data": {
      "text/plain": [
       "[63,8,3], [58,77,3], [78,54,6], [53,69,7], [78,39,10], [53,62,13]"
      ]
     },
     "execution_count": 78,
     "metadata": {},
     "output_type": "execute_result"
    }
   ],
   "source": [
    ">java\n",
    "import java.util.List;\n",
    "import java.util.ArrayList;\n",
    "\n",
    "List<int[]> highIntensityBlocks = new ArrayList<>();\n",
    "for (int k = 0; k < array.shape(2); k++) {\n",
    "    for (int j = 1; j < array.shape(1) - 1; j++) {\n",
    "        for (int i = 1; i < array.shape(0) - 1; i++) {\n",
    "            var block = array.slice(new Range(i - 1, i + 2), new Range(j - 1, j + 2), k);\n",
    "            if (block.sum() / block.length() > 0.85)\n",
    "                highIntensityBlocks.add(new int[]{ i, j, k });\n",
    "        }\n",
    "    }\n",
    "}\n",
    "highIntensityBlocks.stream().map(idx -> String.format(\"[%d,%d,%d]\", idx[0], idx[1], idx[2])).collect(Collectors.joining(\", \"));"
   ]
  },
  {
   "cell_type": "markdown",
   "id": "691527d7-2011-4c6a-92e5-185f81c43983",
   "metadata": {},
   "source": [
    "With NDArray's streaming interface:"
   ]
  },
  {
   "cell_type": "code",
   "execution_count": 105,
   "id": "e9edbb8d-270b-4948-b05f-6f7a89e43f7e",
   "metadata": {},
   "outputs": [
    {
     "data": {
      "text/plain": [
       "[63,8,3], [58,77,3], [78,54,6], [53,69,7], [78,39,10], [53,62,13]"
      ]
     },
     "execution_count": 105,
     "metadata": {},
     "output_type": "execute_result"
    }
   ],
   "source": [
    ">java\n",
    "array.streamCartesianIndices()\n",
    "    //.parallel() // This line is temporarily commented out to print results in the same order as it was above \n",
    "    .filter(idx -> 0 < idx[0] && idx[0] < array.shape(0) - 1 && 0 < idx[1] && idx[1] < array.shape(1) - 1)      //# discarding the boundary coordinates\n",
    "    .filter(idx -> {                                                                                            //# finding the high intensity blocks\n",
    "        var block = array.slice(new Range(idx[0] - 1, idx[0] + 2), new Range(idx[1] - 1, idx[1] + 2), idx[2]);\n",
    "        return block.sum() / block.length() > 0.85;\n",
    "    })\n",
    "    .map(idx -> String.format(\"[%d,%d,%d]\", idx[0], idx[1], idx[2]))\n",
    "    .collect(Collectors.joining(\", \"));"
   ]
  },
  {
   "cell_type": "markdown",
   "id": "920a4f4d-dfcf-4172-86e0-718203b34d07",
   "metadata": {
    "tags": []
   },
   "source": [
    "#### Stream Cartesian indices independently from any NDArray\n",
    "\n",
    "**Example:** Let's print the center coordinates of 3×3×20 block in which the average of values is above 0.55\n",
    "\n",
    "These blocks stretch over the entire range along the third dimension, so there is no need to iterate over the third dimension!"
   ]
  },
  {
   "cell_type": "markdown",
   "id": "cbca8e92-b22b-40f3-9f1d-200bd42e279f",
   "metadata": {},
   "source": [
    "Conventional Java solution:"
   ]
  },
  {
   "cell_type": "code",
   "execution_count": 101,
   "id": "568794ee-4357-4029-9d3e-ab9a61c853ca",
   "metadata": {},
   "outputs": [
    {
     "data": {
      "text/plain": [
       "[33,4], [63,4], [64,4], [9,5], [32,5], [63,5], [64,5], [48,8], [85,8], [85,9], [85,13], [1,18], [43,22], [59,25], [60,25], [61,26], [71,29], [73,30], [59,31], [59,32], [51,33], [67,34], [10,36], [10,37], [32,41], [2,47], [69,47], [70,47], [71,47], [72,47], [16,52], [72,52], [83,53], [84,53], [97,56], [82,57], [83,57], [82,58], [83,58], [84,58], [78,60], [78,61], [98,62], [30,65], [31,65], [63,65], [31,66], [66,68], [65,69], [2,71], [2,72], [98,74], [98,75], [51,76], [58,76], [58,77], [3,78], [3,79], [86,80], [86,81], [48,83], [4,85], [5,85], [5,86], [5,87], [71,88], [78,91], [89,91], [13,94], [14,94], [44,95], [30,96], [44,96], [45,96], [3,98], [4,98]"
      ]
     },
     "execution_count": 101,
     "metadata": {},
     "output_type": "execute_result"
    }
   ],
   "source": [
    ">java\n",
    "import java.util.List;\n",
    "import java.util.ArrayList;\n",
    "\n",
    "List<int[]> highIntensityBlocks = new ArrayList<>();\n",
    "for (int j = 1; j < array.shape(1) - 1; j++) {\n",
    "    for (int i = 1; i < array.shape(0) - 1; i++) {\n",
    "        var block = array.slice(new Range(i - 1, i + 2), new Range(j - 1, j + 2), Range.ALL);\n",
    "        if (block.sum() / block.length() > 0.55)\n",
    "            highIntensityBlocks.add(new int[]{ i, j });\n",
    "    }\n",
    "}\n",
    "highIntensityBlocks.stream().map(idx -> String.format(\"[%d,%d]\", idx[0], idx[1])).collect(Collectors.joining(\", \"));"
   ]
  },
  {
   "cell_type": "markdown",
   "id": "9bef3961-f991-483b-b658-0004d68ad0e1",
   "metadata": {},
   "source": [
    "With NDArray's streaming interface:"
   ]
  },
  {
   "cell_type": "code",
   "execution_count": 106,
   "id": "cd3ac51f-f0bc-4921-826b-c681824c033f",
   "metadata": {},
   "outputs": [
    {
     "data": {
      "text/plain": [
       "[33,4], [63,4], [64,4], [9,5], [32,5], [63,5], [64,5], [48,8], [85,8], [85,9], [85,13], [1,18], [43,22], [59,25], [60,25], [61,26], [71,29], [73,30], [59,31], [59,32], [51,33], [67,34], [10,36], [10,37], [32,41], [2,47], [69,47], [70,47], [71,47], [72,47], [16,52], [72,52], [83,53], [84,53], [97,56], [82,57], [83,57], [82,58], [83,58], [84,58], [78,60], [78,61], [98,62], [30,65], [31,65], [63,65], [31,66], [66,68], [65,69], [2,71], [2,72], [98,74], [98,75], [51,76], [58,76], [58,77], [3,78], [3,79], [86,80], [86,81], [48,83], [4,85], [5,85], [5,86], [5,87], [71,88], [78,91], [89,91], [13,94], [14,94], [44,95], [30,96], [44,96], [45,96], [3,98], [4,98]"
      ]
     },
     "execution_count": 106,
     "metadata": {},
     "output_type": "execute_result"
    }
   ],
   "source": [
    ">java\n",
    "NDArray.streamCartesianIndices(100, 100)\n",
    "    //.parallel() // This line is temporarily commented out to print results in the same order as it was above\n",
    "    .filter(idx -> 0 < idx[0] && idx[0] < array.shape(0) - 1 && 0 < idx[1] && idx[1] < array.shape(1) - 1)         //# discarding the boundary coordinates\n",
    "    .filter(idx -> {                                                                                               //# finding the high intensity blocks\n",
    "        var block = array.slice(new Range(idx[0] - 1, idx[0] + 2), new Range(idx[1] - 1, idx[1] + 2), Range.ALL);\n",
    "        return block.sum() / block.length() > 0.55;\n",
    "    })\n",
    "    .map(idx -> String.format(\"[%d,%d]\", idx[0], idx[1]))\n",
    "    .collect(Collectors.joining(\", \"));"
   ]
  },
  {
   "cell_type": "markdown",
   "id": "df1ed637-137d-4269-aa44-0d0bcae7aca3",
   "metadata": {},
   "source": [
    "#### Stream linear indices\n",
    "\n",
    "**Example:** Let's calculate the squared sum of every 10th element."
   ]
  },
  {
   "cell_type": "code",
   "execution_count": 92,
   "id": "6ea49365-fad7-46b1-b307-ec8991ba33ee",
   "metadata": {},
   "outputs": [
    {
     "data": {
      "text/plain": [
       "9994.80361266334"
      ]
     },
     "execution_count": 92,
     "metadata": {},
     "output_type": "execute_result"
    }
   ],
   "source": [
    ">java\n",
    "double sum = 0;\n",
    "for (int i = 0; i < array.length(); i += 10)\n",
    "    sum += array.get(i);\n",
    "sum"
   ]
  },
  {
   "cell_type": "code",
   "execution_count": 93,
   "id": "ec953e1e-fccd-4fd7-b213-e4d7b01be3b5",
   "metadata": {},
   "outputs": [
    {
     "data": {
      "text/plain": [
       "9994.80361266334"
      ]
     },
     "execution_count": 93,
     "metadata": {},
     "output_type": "execute_result"
    }
   ],
   "source": [
    ">java\n",
    "array.streamLinearIndices()\n",
    "    .filter(i -> i % 10 == 0)\n",
    "    .mapToObj(i -> array.get(i))\n",
    "    .reduce(0., (a,b) -> a + b);"
   ]
  },
  {
   "cell_type": "markdown",
   "id": "c4a37db3-680f-4312-b7f5-7b17ec109af2",
   "metadata": {},
   "source": [
    "### toArray\n",
    "\n",
    "We can convert NDArrays into native arrays of both objects and primitive values."
   ]
  },
  {
   "cell_type": "code",
   "execution_count": 109,
   "id": "21d3a5b4-224d-4df5-b757-3f0b8b8a635f",
   "metadata": {},
   "outputs": [],
   "source": [
    ">java\n",
    "Double[][][] nativeArray = (Double[][][]) array.toArray();\n",
    "Double[][][] nativeArray2 = array.toArray(Double[][][]::new);\n",
    "double[][][] nativeArray2 = array.toArray(double[][][]::new);"
   ]
  },
  {
   "cell_type": "markdown",
   "id": "33742e86-946b-49b8-89b9-1c37057d129b",
   "metadata": {},
   "source": [
    "### Concatenation\n",
    "\n",
    "It is possible to concatenate arrays (even different data type!) along a specified dimension:"
   ]
  },
  {
   "cell_type": "code",
   "execution_count": 113,
   "id": "0524fd94-ce71-474c-a36c-3e204c5d97ba",
   "metadata": {},
   "outputs": [
    {
     "data": {
      "text/plain": [
       "Shape of concatenated array: 100 × 100 × 100"
      ]
     },
     "execution_count": 113,
     "metadata": {},
     "output_type": "execute_result"
    }
   ],
   "source": [
    ">java\n",
    "NDArray<Double> concatenated = array.concatenate(2, new BasicDoubleNDArray(100, 100, 50), new BasicIntegerNDArray(100, 100, 30));\n",
    "String.format(\"Shape of concatenated array: %d × %d × %d\", concatenated.shape(0), concatenated.shape(1), concatenated.shape(2));"
   ]
  },
  {
   "cell_type": "markdown",
   "id": "222c5d34-621f-48a3-aa14-f426c84eb459",
   "metadata": {},
   "source": [
    "This is actually a shorthand for the following expressions:"
   ]
  },
  {
   "cell_type": "code",
   "execution_count": 115,
   "id": "72565b75-469c-4536-84dd-49f46ed4fa6c",
   "metadata": {},
   "outputs": [
    {
     "data": {
      "text/plain": [
       "Shape of concatenated array: 100 × 100 × 100"
      ]
     },
     "execution_count": 115,
     "metadata": {},
     "output_type": "execute_result"
    }
   ],
   "source": [
    ">java\n",
    "NDArray<Double> concatenated = new BasicDoubleNDArray(100, 100, 20 + 50 + 30);\n",
    "concatenated.slice(\":\", \":\", \"0:20\").copyFrom(array);\n",
    "concatenated.slice(\":\", \":\", \"20:70\").copyFrom(new BasicDoubleNDArray(100, 100, 50));\n",
    "concatenated.slice(\":\", \":\", \"70:100\").copyFrom(new BasicIntegerNDArray(100, 100, 30));\n",
    "String.format(\"Shape of concatenated array: %d × %d × %d\", concatenated.shape(0), concatenated.shape(1), concatenated.shape(2));"
   ]
  },
  {
   "cell_type": "markdown",
   "id": "3955b5b0-2f3f-4723-8152-bcdcd61bb9e5",
   "metadata": {},
   "source": [
    "### Check for equality\n",
    "\n",
    "The equals method compares NDArrays elementwise, and returns true only when all elements are pairwise equal.\n",
    "\n",
    "When two NDArrays with different data types are compared, it first attemps to cast elements on the right hand side to match the data type on the left, and it performs the comparison afterwards.\n",
    "**This means that equals() is not always symmetric (a.equals(b) ↔ b.equals(a))!**"
   ]
  },
  {
   "cell_type": "code",
   "execution_count": 118,
   "id": "b2494bec-195f-4100-9b46-37f666e10ece",
   "metadata": {},
   "outputs": [
    {
     "name": "stdout",
     "output_type": "stream",
     "text": [
      "array1.equals(array2) == false\n",
      "array2.equals(array1) == true\n"
     ]
    }
   ],
   "source": [
    ">java\n",
    "NDArray<Double> array1 = new BasicDoubleNDArray(4, 5).fillUsingLinearIndices(i -> i + 0.5);\n",
    "NDArray<Integer> array2 = new BasicIntegerNDArray(4, 5).fillUsingLinearIndices(i -> i);\n",
    "System.out.println(\"array1.equals(array2) == \" + (array1.equals(array2) ? \"true\" : \"false\")); // double values are casted to int (e.g. 0.5 -> 0)\n",
    "System.out.println(\"array2.equals(array1) == \" + (array2.equals(array1) ? \"true\" : \"false\")); // int values are casted to int (e.g. 0 -> 0.0)"
   ]
  },
  {
   "cell_type": "markdown",
   "id": "ecdbcb4b-7097-41fb-8a9d-0f14ee2eb1bd",
   "metadata": {
    "tags": []
   },
   "source": [
    "### Similar\n",
    "\n",
    "Sometimes, we have an array, and we need another one that has same shape and data type, but we don't need to copy all the values. `similar()` creates such an array, and leaves default values in each elements (which is 0 for basic NDArrays, but might be uninitialized for other implementations)."
   ]
  },
  {
   "cell_type": "code",
   "execution_count": 120,
   "id": "0296a25b-3187-45b5-89f2-c2d33400bf79",
   "metadata": {},
   "outputs": [
    {
     "data": {
      "text/plain": [
       "Shape of 'array' (4×5) and 'another' (4×5) are equal, but array.equals(another) == false"
      ]
     },
     "execution_count": 120,
     "metadata": {},
     "output_type": "execute_result"
    }
   ],
   "source": [
    ">java\n",
    "NDArray<Integer> array = new BasicIntegerNDArray(4, 5).fillUsingLinearIndices(i -> i);\n",
    "NDArray<Integer> another = array.similar();\n",
    "String.format(\"Shape of 'array' (%d×%d) and 'another' (%d×%d) are equal, but array.equals(another) == \" + (array.equals(another) ? \"true\" : \"false\"),\n",
    "    array.shape(0), array.shape(1), another.shape(0), another.shape(1));"
   ]
  },
  {
   "cell_type": "markdown",
   "id": "158ed36d-ea43-4ea3-a8f1-a7eeb145d0c1",
   "metadata": {},
   "source": [
    "### Serialize and deserialize\n",
    "\n",
    "We can easily save an NDArray to a file, and read it back. The file stores all the necessary meta data such that the shape of the array and the data type. We can, however, read saved arrays into NDArrays of any data type, and NDArrays performs the necessary type casting.\n",
    "\n",
    "There is no constraint on the file extension, `.nda` is only my personal preference."
   ]
  },
  {
   "cell_type": "code",
   "execution_count": 122,
   "id": "e57ed600-41f8-493f-bb2e-0c6d5f38857d",
   "metadata": {},
   "outputs": [],
   "source": [
    ">java\n",
    "File file = new File(\"test.nda\");\n",
    "array.writeToFile(file);\n",
    "NDArray<Double> array2 = BasicDoubleNDArray.readFromFile(file);\n",
    "NDArray<Integer> array3 = BasicIntegerNDArray.readFromFile(file); //# reading into an array of different data type"
   ]
  },
  {
   "cell_type": "markdown",
   "id": "1bba6934-f646-4e89-aba0-3a6070d7c0f5",
   "metadata": {},
   "source": [
    "# Complex NDArrays\n",
    "\n",
    "We use Complex class from Apache math3 library to represent complex values.\n",
    "\n",
    "Complex NDArrays are no different from simple NDArrays; in fact, ComplexNDArray is a sub-interface of NDArray. Thus, we present only features unique to complex NDArrays. Also, we see no advantage of presenting the parallel solutions in the other languages."
   ]
  },
  {
   "cell_type": "markdown",
   "id": "b3baabaf-0291-4495-8b9e-d9cbbbdec908",
   "metadata": {},
   "source": [
    "## Construction and initialization"
   ]
  },
  {
   "cell_type": "code",
   "execution_count": 125,
   "id": "03c05917-bcdc-4882-8540-a0a8392214b7",
   "metadata": {},
   "outputs": [],
   "source": [
    ">java\n",
    "\n",
    "import org.apache.commons.math3.complex.Complex;\n",
    "import io.github.hakkelt.ndarrays.ComplexNDArray;\n",
    "import io.github.hakkelt.ndarrays.basic.BasicComplexDoubleNDArray;"
   ]
  },
  {
   "cell_type": "markdown",
   "id": "46be60e7-f39a-477b-bc8a-a69d1c8b7f98",
   "metadata": {},
   "source": [
    "### New array filled with zeros and with a constant value"
   ]
  },
  {
   "cell_type": "code",
   "execution_count": 127,
   "id": "44db127c-c006-46b2-a763-402d5dfce0f2",
   "metadata": {},
   "outputs": [
    {
     "name": "stdout",
     "output_type": "stream",
     "text": [
      "Array of zeros: basic NDArray<Complex Double>(4 × 5)\n",
      "0,00000e+00+0,00000e+00i\t0,00000e+00+0,00000e+00i\t0,00000e+00+0,00000e+00i\t0,00000e+00+0,00000e+00i\t0,00000e+00+0,00000e+00i\t\n",
      "0,00000e+00+0,00000e+00i\t0,00000e+00+0,00000e+00i\t0,00000e+00+0,00000e+00i\t0,00000e+00+0,00000e+00i\t0,00000e+00+0,00000e+00i\t\n",
      "0,00000e+00+0,00000e+00i\t0,00000e+00+0,00000e+00i\t0,00000e+00+0,00000e+00i\t0,00000e+00+0,00000e+00i\t0,00000e+00+0,00000e+00i\t\n",
      "0,00000e+00+0,00000e+00i\t0,00000e+00+0,00000e+00i\t0,00000e+00+0,00000e+00i\t0,00000e+00+0,00000e+00i\t0,00000e+00+0,00000e+00i\t\n",
      "\n",
      "Array of (real) twos: basic NDArray<Complex Double>(4 × 5)\n",
      "2,00000e+00+0,00000e+00i\t2,00000e+00+0,00000e+00i\t2,00000e+00+0,00000e+00i\t2,00000e+00+0,00000e+00i\t2,00000e+00+0,00000e+00i\t\n",
      "2,00000e+00+0,00000e+00i\t2,00000e+00+0,00000e+00i\t2,00000e+00+0,00000e+00i\t2,00000e+00+0,00000e+00i\t2,00000e+00+0,00000e+00i\t\n",
      "2,00000e+00+0,00000e+00i\t2,00000e+00+0,00000e+00i\t2,00000e+00+0,00000e+00i\t2,00000e+00+0,00000e+00i\t2,00000e+00+0,00000e+00i\t\n",
      "2,00000e+00+0,00000e+00i\t2,00000e+00+0,00000e+00i\t2,00000e+00+0,00000e+00i\t2,00000e+00+0,00000e+00i\t2,00000e+00+0,00000e+00i\t\n",
      "\n",
      "Array filled with complex values: basic NDArray<Complex Double>(4 × 5)\n",
      "2,00000e+00-1,00000e+00i\t2,00000e+00-1,00000e+00i\t2,00000e+00-1,00000e+00i\t2,00000e+00-1,00000e+00i\t2,00000e+00-1,00000e+00i\t\n",
      "2,00000e+00-1,00000e+00i\t2,00000e+00-1,00000e+00i\t2,00000e+00-1,00000e+00i\t2,00000e+00-1,00000e+00i\t2,00000e+00-1,00000e+00i\t\n",
      "2,00000e+00-1,00000e+00i\t2,00000e+00-1,00000e+00i\t2,00000e+00-1,00000e+00i\t2,00000e+00-1,00000e+00i\t2,00000e+00-1,00000e+00i\t\n",
      "2,00000e+00-1,00000e+00i\t2,00000e+00-1,00000e+00i\t2,00000e+00-1,00000e+00i\t2,00000e+00-1,00000e+00i\t2,00000e+00-1,00000e+00i\t\n",
      "\n"
     ]
    }
   ],
   "source": [
    ">java\n",
    "ComplexNDArray<Double> zeroArray = new BasicComplexDoubleNDArray(4, 5); //# Basic ComplexNDArray initialized with Complex.ZERO by default\n",
    "System.out.println(\"Array of zeros: \" + zeroArray.contentToString());\n",
    "\n",
    "ComplexNDArray<Double> twosArray = new BasicComplexDoubleNDArray(4, 5).fill(2);\n",
    "System.out.println(\"Array of (real) twos: \" + twosArray.contentToString());\n",
    "\n",
    "ComplexNDArray<Double> constantArray = new BasicComplexDoubleNDArray(4, 5).fill(new Complex(2,-1));\n",
    "System.out.println(\"Array filled with complex values: \" + constantArray.contentToString());"
   ]
  },
  {
   "cell_type": "markdown",
   "id": "a1a63447-7718-473d-b531-2fc2a00505cf",
   "metadata": {},
   "source": [
    "### Fill array with position dependent values\n",
    "\n",
    "It is pretty much the same as it was for real NDArrays but with complex values in this case."
   ]
  },
  {
   "cell_type": "code",
   "execution_count": 130,
   "id": "290233ac-b24f-4fc2-9119-53ad2b43c382",
   "metadata": {},
   "outputs": [
    {
     "data": {
      "text/plain": [
       "basic NDArray<Complex Double>(4 × 5)\r\n",
       "0,00000e+00+0,00000e+00i\t4,00000e+00-8,00000e+00i\t8,00000e+00-1,60000e+01i\t1,20000e+01-2,40000e+01i\t1,60000e+01-3,20000e+01i\t\r\n",
       "1,00000e+00-2,00000e+00i\t5,00000e+00-1,00000e+01i\t9,00000e+00-1,80000e+01i\t1,30000e+01-2,60000e+01i\t1,70000e+01-3,40000e+01i\t\r\n",
       "2,00000e+00-4,00000e+00i\t6,00000e+00-1,20000e+01i\t1,00000e+01-2,00000e+01i\t1,40000e+01-2,80000e+01i\t1,80000e+01-3,60000e+01i\t\r\n",
       "3,00000e+00-6,00000e+00i\t7,00000e+00-1,40000e+01i\t1,10000e+01-2,20000e+01i\t1,50000e+01-3,00000e+01i\t1,90000e+01-3,80000e+01i\t\r\n"
      ]
     },
     "execution_count": 130,
     "metadata": {},
     "output_type": "execute_result"
    }
   ],
   "source": [
    ">java\n",
    "new BasicComplexDoubleNDArray(4, 5)                       //# create array\n",
    "    .fillUsingLinearIndices(i -> new Complex(i, -i * 2))  //# initialize\n",
    "    .contentToString()                                    //# print content"
   ]
  },
  {
   "cell_type": "code",
   "execution_count": 131,
   "id": "f68668e3-8874-4994-9109-2e7c53d5a491",
   "metadata": {},
   "outputs": [
    {
     "data": {
      "text/plain": [
       "basic NDArray<Complex Double>(4 × 5)\r\n",
       "0,00000e+00+0,00000e+00i\t0,00000e+00+1,00000e+00i\t0,00000e+00+4,00000e+00i\t0,00000e+00+9,00000e+00i\t0,00000e+00+1,60000e+01i\t\r\n",
       "1,00000e+00+0,00000e+00i\t1,00000e+00+1,00000e+00i\t1,00000e+00+4,00000e+00i\t1,00000e+00+9,00000e+00i\t1,00000e+00+1,60000e+01i\t\r\n",
       "4,00000e+00+0,00000e+00i\t4,00000e+00+1,00000e+00i\t4,00000e+00+4,00000e+00i\t4,00000e+00+9,00000e+00i\t4,00000e+00+1,60000e+01i\t\r\n",
       "9,00000e+00+0,00000e+00i\t9,00000e+00+1,00000e+00i\t9,00000e+00+4,00000e+00i\t9,00000e+00+9,00000e+00i\t9,00000e+00+1,60000e+01i\t\r\n"
      ]
     },
     "execution_count": 131,
     "metadata": {},
     "output_type": "execute_result"
    }
   ],
   "source": [
    ">java\n",
    "new BasicComplexDoubleNDArray(4, 5)\n",
    "    .fillUsingCartesianIndices(idx -> new Complex(idx[0] * idx[0], idx[1] * idx[1]))\n",
    "    .contentToString()"
   ]
  },
  {
   "cell_type": "markdown",
   "id": "8107c65b-47ac-4b46-a4c0-a69020f25932",
   "metadata": {},
   "source": [
    "### Initialize with primitive array(s)\n",
    "\n",
    "Note that for technical reason, this initialization is done by factory methods (`.of()` static methods, so `new` keyword shall not be used)!"
   ]
  },
  {
   "cell_type": "code",
   "execution_count": 132,
   "id": "3108700a-ed3f-4c44-a88d-be0e01335634",
   "metadata": {},
   "outputs": [
    {
     "name": "stdout",
     "output_type": "stream",
     "text": [
      "Real-only ComplexNDArray: basic NDArray<Complex Double>(4 × 5)\n",
      "0,00000e+00+0,00000e+00i\t0,00000e+00+0,00000e+00i\t0,00000e+00+0,00000e+00i\t0,00000e+00+0,00000e+00i\t0,00000e+00+0,00000e+00i\t\n",
      "1,00000e+00+0,00000e+00i\t1,00000e+00+0,00000e+00i\t1,00000e+00+0,00000e+00i\t1,00000e+00+0,00000e+00i\t1,00000e+00+0,00000e+00i\t\n",
      "2,00000e+00+0,00000e+00i\t2,00000e+00+0,00000e+00i\t2,00000e+00+0,00000e+00i\t2,00000e+00+0,00000e+00i\t2,00000e+00+0,00000e+00i\t\n",
      "3,00000e+00+0,00000e+00i\t3,00000e+00+0,00000e+00i\t3,00000e+00+0,00000e+00i\t3,00000e+00+0,00000e+00i\t3,00000e+00+0,00000e+00i\t\n",
      "\n",
      "A truly complex ComplexNDArray: basic NDArray<Complex Double>(4 × 5)\n",
      "0,00000e+00+0,00000e+00i\t0,00000e+00+1,00000e+00i\t0,00000e+00+2,00000e+00i\t0,00000e+00+3,00000e+00i\t0,00000e+00+4,00000e+00i\t\n",
      "1,00000e+00+0,00000e+00i\t1,00000e+00+1,00000e+00i\t1,00000e+00+2,00000e+00i\t1,00000e+00+3,00000e+00i\t1,00000e+00+4,00000e+00i\t\n",
      "2,00000e+00+0,00000e+00i\t2,00000e+00+1,00000e+00i\t2,00000e+00+2,00000e+00i\t2,00000e+00+3,00000e+00i\t2,00000e+00+4,00000e+00i\t\n",
      "3,00000e+00+0,00000e+00i\t3,00000e+00+1,00000e+00i\t3,00000e+00+2,00000e+00i\t3,00000e+00+3,00000e+00i\t3,00000e+00+4,00000e+00i\t\n",
      "\n"
     ]
    }
   ],
   "source": [
    ">java\n",
    "int[][] real = new int[4][5];\n",
    "for (int i = 0; i < 4; i++)\n",
    "    for (int j = 0; j < 5; j++)\n",
    "        real[i][j] = i;\n",
    "int[][] imag = new int[4][5];\n",
    "for (int i = 0; i < 4; i++)\n",
    "    for (int j = 0; j < 5; j++)\n",
    "        imag[i][j] = j;\n",
    "System.out.println(\"Real-only ComplexNDArray: \" + BasicComplexDoubleNDArray.of(real).contentToString());\n",
    "System.out.println(\"A truly complex ComplexNDArray: \" + BasicComplexDoubleNDArray.of(real, imag).contentToString());"
   ]
  },
  {
   "cell_type": "markdown",
   "id": "57dda9d1-614e-4650-a139-72233c42517b",
   "metadata": {},
   "source": [
    "### Copy constructor\n",
    "\n",
    "Usually, copy constructor is useful to convert between different types of NDArray."
   ]
  },
  {
   "cell_type": "code",
   "execution_count": 133,
   "id": "1e7df5dd-461d-4d88-95a2-2ca2bd6ecf0c",
   "metadata": {},
   "outputs": [
    {
     "name": "stdout",
     "output_type": "stream",
     "text": [
      "Real-only ComplexNDArray: basic NDArray<Complex Double>(4 × 5)\n",
      "3,00000e+00+0,00000e+00i\t3,00000e+00+0,00000e+00i\t3,00000e+00+0,00000e+00i\t3,00000e+00+0,00000e+00i\t3,00000e+00+0,00000e+00i\t\n",
      "3,00000e+00+0,00000e+00i\t3,00000e+00+0,00000e+00i\t3,00000e+00+0,00000e+00i\t3,00000e+00+0,00000e+00i\t3,00000e+00+0,00000e+00i\t\n",
      "3,00000e+00+0,00000e+00i\t3,00000e+00+0,00000e+00i\t3,00000e+00+0,00000e+00i\t3,00000e+00+0,00000e+00i\t3,00000e+00+0,00000e+00i\t\n",
      "3,00000e+00+0,00000e+00i\t3,00000e+00+0,00000e+00i\t3,00000e+00+0,00000e+00i\t3,00000e+00+0,00000e+00i\t3,00000e+00+0,00000e+00i\t\n",
      "\n",
      "A truly complex ComplexNDArray: basic NDArray<Complex Double>(4 × 5)\n",
      "3,00000e+00-1,00000e+00i\t3,00000e+00-1,00000e+00i\t3,00000e+00-1,00000e+00i\t3,00000e+00-1,00000e+00i\t3,00000e+00-1,00000e+00i\t\n",
      "3,00000e+00-1,00000e+00i\t3,00000e+00-1,00000e+00i\t3,00000e+00-1,00000e+00i\t3,00000e+00-1,00000e+00i\t3,00000e+00-1,00000e+00i\t\n",
      "3,00000e+00-1,00000e+00i\t3,00000e+00-1,00000e+00i\t3,00000e+00-1,00000e+00i\t3,00000e+00-1,00000e+00i\t3,00000e+00-1,00000e+00i\t\n",
      "3,00000e+00-1,00000e+00i\t3,00000e+00-1,00000e+00i\t3,00000e+00-1,00000e+00i\t3,00000e+00-1,00000e+00i\t3,00000e+00-1,00000e+00i\t\n",
      "\n"
     ]
    }
   ],
   "source": [
    ">java\n",
    "NDArray<Double> real = new BasicDoubleNDArray(4, 5).fill(3);\n",
    "NDArray<Double> imag = new BasicDoubleNDArray(4, 5).fill(-1);\n",
    "System.out.println(\"Real-only ComplexNDArray: \" + new BasicComplexDoubleNDArray(real).contentToString());\n",
    "System.out.println(\"A truly complex ComplexNDArray: \" + new BasicComplexDoubleNDArray(real, imag).contentToString());"
   ]
  },
  {
   "cell_type": "markdown",
   "id": "c8d668e8-8716-4355-bce2-d2ed0030efbf",
   "metadata": {},
   "source": [
    "### Create from magnitude and phase arrays"
   ]
  },
  {
   "cell_type": "code",
   "execution_count": 134,
   "id": "a360e39b-a80a-4c8c-852b-898077123653",
   "metadata": {},
   "outputs": [
    {
     "data": {
      "text/plain": [
       "basic NDArray<Complex Double>(4 × 5)\r\n",
       "1,62091e+00-2,52441e+00i\t1,62091e+00-2,52441e+00i\t1,62091e+00-2,52441e+00i\t1,62091e+00-2,52441e+00i\t1,62091e+00-2,52441e+00i\t\r\n",
       "1,62091e+00-2,52441e+00i\t1,62091e+00-2,52441e+00i\t1,62091e+00-2,52441e+00i\t1,62091e+00-2,52441e+00i\t1,62091e+00-2,52441e+00i\t\r\n",
       "1,62091e+00-2,52441e+00i\t1,62091e+00-2,52441e+00i\t1,62091e+00-2,52441e+00i\t1,62091e+00-2,52441e+00i\t1,62091e+00-2,52441e+00i\t\r\n",
       "1,62091e+00-2,52441e+00i\t1,62091e+00-2,52441e+00i\t1,62091e+00-2,52441e+00i\t1,62091e+00-2,52441e+00i\t1,62091e+00-2,52441e+00i\t\r\n"
      ]
     },
     "execution_count": 134,
     "metadata": {},
     "output_type": "execute_result"
    }
   ],
   "source": [
    ">java\n",
    "NDArray<Double> magnitude = new BasicDoubleNDArray(4, 5).fill(3);\n",
    "NDArray<Double> phase = new BasicDoubleNDArray(4, 5).fill(-1);\n",
    "BasicComplexDoubleNDArray.ofMagnitudePhase(magnitude, phase).contentToString();"
   ]
  },
  {
   "cell_type": "markdown",
   "id": "8fedebf9-8eb0-45f4-bad1-7266b29b2b81",
   "metadata": {},
   "source": [
    "#### Stream collector\n",
    "\n",
    "This solution is not recommended as we need explicit type casting (Java can only infer `NDArray<Complex>` but cannot specialize further)."
   ]
  },
  {
   "cell_type": "code",
   "execution_count": 138,
   "id": "736840e6-5912-4ffe-827c-19aba8a386c7",
   "metadata": {},
   "outputs": [
    {
     "data": {
      "text/plain": [
       "basic NDArray<Complex Double>(4 × 5)\r\n",
       "0,00000e+00+0,00000e+00i\t4,00000e+00-4,00000e+00i\t8,00000e+00-8,00000e+00i\t1,20000e+01-1,20000e+01i\t1,60000e+01-1,60000e+01i\t\r\n",
       "1,00000e+00-1,00000e+00i\t5,00000e+00-5,00000e+00i\t9,00000e+00-9,00000e+00i\t1,30000e+01-1,30000e+01i\t1,70000e+01-1,70000e+01i\t\r\n",
       "2,00000e+00-2,00000e+00i\t6,00000e+00-6,00000e+00i\t1,00000e+01-1,00000e+01i\t1,40000e+01-1,40000e+01i\t1,80000e+01-1,80000e+01i\t\r\n",
       "3,00000e+00-3,00000e+00i\t7,00000e+00-7,00000e+00i\t1,10000e+01-1,10000e+01i\t1,50000e+01-1,50000e+01i\t1,90000e+01-1,90000e+01i\t\r\n"
      ]
     },
     "execution_count": 138,
     "metadata": {},
     "output_type": "execute_result"
    }
   ],
   "source": [
    ">java\n",
    "ComplexNDArray<Double> array = (ComplexNDArray<Double>) IntStream.range(0, 20)\n",
    "    .mapToObj(i -> new Complex(i, -i))\n",
    "    .collect(BasicComplexDoubleNDArray.getCollector(4, 5));\n",
    "array.contentToString()"
   ]
  },
  {
   "cell_type": "markdown",
   "id": "c179e672-de28-49b2-9ef9-57017079b2ea",
   "metadata": {},
   "source": [
    "## Complex number related functions"
   ]
  },
  {
   "cell_type": "markdown",
   "id": "87657515-218c-4ab4-a6a1-fb175b51fd14",
   "metadata": {},
   "source": [
    "### Get and set"
   ]
  },
  {
   "cell_type": "code",
   "execution_count": 150,
   "id": "201d83b8-8e23-4e85-847b-d1e3f66acb30",
   "metadata": {},
   "outputs": [
    {
     "name": "stdout",
     "output_type": "stream",
     "text": [
      "basic NDArray<Complex Double>(4 × 5)\n",
      "3,00000e+00-3,00000e+00i\t5,00000e+00+0,00000e+00i\t-1,00000e+00-1,00000e+00i\t1,20000e+01-1,20000e+01i\t1,60000e+01-1,60000e+01i\t\n",
      "1,00000e+00-1,00000e+00i\t5,00000e+00-5,00000e+00i\t9,00000e+00-9,00000e+00i\t1,30000e+01-1,30000e+01i\t1,70000e+01-1,70000e+01i\t\n",
      "2,00000e+00-2,00000e+00i\t6,00000e+00-6,00000e+00i\t1,00000e+01-1,00000e+01i\t1,40000e+01-1,40000e+01i\t1,80000e+01-1,80000e+01i\t\n",
      "3,00000e+00-3,00000e+00i\t7,00000e+00-7,00000e+00i\t1,10000e+01-1,10000e+01i\t1,50000e+01-1,50000e+01i\t1,90000e+01-1,90000e+01i\t\n",
      "\n",
      "Element at [0,1]: 5,000000 + 0,000000i\n",
      "Element at linear index 8: -1,000000 + -1,000000i\n",
      "Real component of element at [0,0]: 5,000000\n",
      "Imaginary component of element at [0,0]: 5,000000"
     ]
    }
   ],
   "source": [
    ">java\n",
    "ComplexNDArray<Double> array = new BasicComplexDoubleNDArray(4, 5).fillUsingLinearIndices(i -> new Complex(i, -i));\n",
    "array.set(new Complex(5), 0, 1);        //# Cartesian indexing starting from 0\n",
    "array.set(new Complex(-1, -1), 8);      //# linear indexing starting from 0\n",
    "array.setReal(3, 0, 0);\n",
    "array.setImag(-3, 0, 0);\n",
    "\n",
    "System.out.println(array.contentToString());\n",
    "System.out.format(\"Element at [0,1]: %f + %fi%n\", array.get(0, 1).getReal(), array.get(0, 1).getImaginary());\n",
    "System.out.format(\"Element at linear index 8: %f + %fi%n\", array.get(8).getReal(), array.get(8).getImaginary());\n",
    "System.out.format(\"Real component of element at [0,0]: %f%n\", array.getReal(0, 1));\n",
    "System.out.format(\"Imaginary component of element at [0,0]: %f\", array.getReal(0, 1));"
   ]
  },
  {
   "cell_type": "markdown",
   "id": "7e8290af-590c-442c-b8cb-d9c61bbe2723",
   "metadata": {},
   "source": [
    "### Set range\n",
    "\n",
    "Assign complex sub-matrix:"
   ]
  },
  {
   "cell_type": "code",
   "execution_count": 162,
   "id": "40219a10-d817-4500-89c5-b20e08258643",
   "metadata": {},
   "outputs": [
    {
     "name": "stdout",
     "output_type": "stream",
     "text": [
      "Original matrix: basic NDArray<Complex Double>(4 × 4)\n",
      "0,00000e+00+0,00000e+00i\t4,00000e+00+4,00000e+00i\t8,00000e+00+8,00000e+00i\t1,20000e+01+1,20000e+01i\t\n",
      "1,00000e+00+1,00000e+00i\t5,00000e+00+5,00000e+00i\t9,00000e+00+9,00000e+00i\t1,30000e+01+1,30000e+01i\t\n",
      "2,00000e+00+2,00000e+00i\t6,00000e+00+6,00000e+00i\t1,00000e+01+1,00000e+01i\t1,40000e+01+1,40000e+01i\t\n",
      "3,00000e+00+3,00000e+00i\t7,00000e+00+7,00000e+00i\t1,10000e+01+1,10000e+01i\t1,50000e+01+1,50000e+01i\t\n",
      "\n",
      "A smaller matrix: basic NDArray<Complex Double>(2 × 2)\n",
      "0,00000e+00-1,00000e+02i\t0,00000e+00-1,02000e+02i\t\n",
      "0,00000e+00-1,01000e+02i\t0,00000e+00-1,03000e+02i\t\n",
      "\n",
      "Original matrix after assigning the smaller matrix to its center: basic NDArray<Complex Double>(4 × 4)\n",
      "0,00000e+00+0,00000e+00i\t4,00000e+00+4,00000e+00i\t8,00000e+00+8,00000e+00i\t1,20000e+01+1,20000e+01i\t\n",
      "1,00000e+00+1,00000e+00i\t0,00000e+00-1,00000e+02i\t0,00000e+00-1,02000e+02i\t1,30000e+01+1,30000e+01i\t\n",
      "2,00000e+00+2,00000e+00i\t0,00000e+00-1,01000e+02i\t0,00000e+00-1,03000e+02i\t1,40000e+01+1,40000e+01i\t\n",
      "3,00000e+00+3,00000e+00i\t7,00000e+00+7,00000e+00i\t1,10000e+01+1,10000e+01i\t1,50000e+01+1,50000e+01i\t\n",
      "\n"
     ]
    }
   ],
   "source": [
    ">java\n",
    "ComplexNDArray<Double> array = new BasicComplexDoubleNDArray(4, 4).fillUsingLinearIndices(i -> new Complex(i, i));\n",
    "System.out.println(\"Original matrix: \" + array.contentToString());\n",
    "\n",
    "ComplexNDArray<Double> complexSubMatrix = new BasicComplexDoubleNDArray(2, 2).fillUsingLinearIndices(i -> new Complex(0, -100 - i));\n",
    "System.out.println(\"A smaller matrix: \" + complexSubMatrix.contentToString());\n",
    "\n",
    "array.slice(\"1:3\", \"1:3\").copyFrom(complexSubMatrix);\n",
    "System.out.println(\"Original matrix after assigning the smaller matrix to its center: \" + array.contentToString());"
   ]
  },
  {
   "cell_type": "markdown",
   "id": "469715ea-2593-413c-9817-4ca8fbe93f04",
   "metadata": {},
   "source": [
    "Assign real sub-matrix:"
   ]
  },
  {
   "cell_type": "code",
   "execution_count": 161,
   "id": "18b25ffc-155d-4853-b74b-a6892e3754be",
   "metadata": {},
   "outputs": [
    {
     "name": "stdout",
     "output_type": "stream",
     "text": [
      "Original matrix: basic NDArray<Complex Double>(4 × 4)\n",
      "0,00000e+00+0,00000e+00i\t4,00000e+00+4,00000e+00i\t8,00000e+00+8,00000e+00i\t1,20000e+01+1,20000e+01i\t\n",
      "1,00000e+00+1,00000e+00i\t5,00000e+00+5,00000e+00i\t9,00000e+00+9,00000e+00i\t1,30000e+01+1,30000e+01i\t\n",
      "2,00000e+00+2,00000e+00i\t6,00000e+00+6,00000e+00i\t1,00000e+01+1,00000e+01i\t1,40000e+01+1,40000e+01i\t\n",
      "3,00000e+00+3,00000e+00i\t7,00000e+00+7,00000e+00i\t1,10000e+01+1,10000e+01i\t1,50000e+01+1,50000e+01i\t\n",
      "\n",
      "A smaller matrix: basic NDArray<Double>(2 × 2)\n",
      "-1,00000e+02\t-1,02000e+02\t\n",
      "-1,01000e+02\t-1,03000e+02\t\n",
      "\n",
      "Original matrix after assigning the smaller matrix to its center: basic NDArray<Complex Double>(4 × 4)\n",
      "0,00000e+00+0,00000e+00i\t4,00000e+00+4,00000e+00i\t8,00000e+00+8,00000e+00i\t1,20000e+01+1,20000e+01i\t\n",
      "1,00000e+00+1,00000e+00i\t-1,00000e+02+0,00000e+00i\t-1,02000e+02+0,00000e+00i\t1,30000e+01+1,30000e+01i\t\n",
      "2,00000e+00+2,00000e+00i\t-1,01000e+02+0,00000e+00i\t-1,03000e+02+0,00000e+00i\t1,40000e+01+1,40000e+01i\t\n",
      "3,00000e+00+3,00000e+00i\t7,00000e+00+7,00000e+00i\t1,10000e+01+1,10000e+01i\t1,50000e+01+1,50000e+01i\t\n",
      "\n"
     ]
    }
   ],
   "source": [
    ">java\n",
    "ComplexNDArray<Double> array = new BasicComplexDoubleNDArray(4, 4).fillUsingLinearIndices(i -> new Complex(i, i));\n",
    "System.out.println(\"Original matrix: \" + array.contentToString());\n",
    "\n",
    "NDArray<Double> realSubMatrix = new BasicDoubleNDArray(2, 2).fillUsingLinearIndices(i -> -100. - i);\n",
    "System.out.println(\"A smaller matrix: \" + realSubMatrix.contentToString());\n",
    "\n",
    "array.slice(\"1:3\", \"1:3\").copyFrom(realSubMatrix);\n",
    "System.out.println(\"Original matrix after assigning the smaller matrix to its center: \" + array.contentToString());"
   ]
  },
  {
   "cell_type": "markdown",
   "id": "344a0bef-5794-4b60-ad63-b281d33ed822",
   "metadata": {},
   "source": [
    "Assign real and imaginary parts:"
   ]
  },
  {
   "cell_type": "code",
   "execution_count": 160,
   "id": "5ec7e22d-77b0-4e6e-a6be-bbfe063ec208",
   "metadata": {},
   "outputs": [
    {
     "name": "stdout",
     "output_type": "stream",
     "text": [
      "Original matrix: basic NDArray<Complex Double>(4 × 4)\n",
      "0,00000e+00+0,00000e+00i\t4,00000e+00+4,00000e+00i\t8,00000e+00+8,00000e+00i\t1,20000e+01+1,20000e+01i\t\n",
      "1,00000e+00+1,00000e+00i\t5,00000e+00+5,00000e+00i\t9,00000e+00+9,00000e+00i\t1,30000e+01+1,30000e+01i\t\n",
      "2,00000e+00+2,00000e+00i\t6,00000e+00+6,00000e+00i\t1,00000e+01+1,00000e+01i\t1,40000e+01+1,40000e+01i\t\n",
      "3,00000e+00+3,00000e+00i\t7,00000e+00+7,00000e+00i\t1,10000e+01+1,10000e+01i\t1,50000e+01+1,50000e+01i\t\n",
      "\n",
      "A smaller matrix (real part): basic NDArray<Double>(2 × 2)\n",
      "0,00000e+00\t0,00000e+00\t\n",
      "0,00000e+00\t0,00000e+00\t\n",
      "\n",
      "A smaller matrix (imaginary part): basic NDArray<Double>(2 × 2)\n",
      "-1,00000e+02\t-1,02000e+02\t\n",
      "-1,01000e+02\t-1,03000e+02\t\n",
      "\n",
      "Original matrix after assigning the smaller matrix to its center: basic NDArray<Complex Double>(4 × 4)\n",
      "0,00000e+00+0,00000e+00i\t4,00000e+00+4,00000e+00i\t8,00000e+00+8,00000e+00i\t1,20000e+01+1,20000e+01i\t\n",
      "1,00000e+00+1,00000e+00i\t0,00000e+00-1,00000e+02i\t0,00000e+00-1,02000e+02i\t1,30000e+01+1,30000e+01i\t\n",
      "2,00000e+00+2,00000e+00i\t0,00000e+00-1,01000e+02i\t0,00000e+00-1,03000e+02i\t1,40000e+01+1,40000e+01i\t\n",
      "3,00000e+00+3,00000e+00i\t7,00000e+00+7,00000e+00i\t1,10000e+01+1,10000e+01i\t1,50000e+01+1,50000e+01i\t\n",
      "\n"
     ]
    }
   ],
   "source": [
    ">java\n",
    "ComplexNDArray<Double> array = new BasicComplexDoubleNDArray(4, 4).fillUsingLinearIndices(i -> new Complex(i, i));\n",
    "System.out.println(\"Original matrix: \" + array.contentToString());\n",
    "\n",
    "NDArray<Double> realSubMatrix = new BasicDoubleNDArray(2, 2).fill(0);\n",
    "System.out.println(\"A smaller matrix (real part): \" + realSubMatrix.contentToString());\n",
    "NDArray<Double> imaginarySubMatrix = new BasicDoubleNDArray(2, 2).fillUsingLinearIndices(i -> -100. - i);\n",
    "System.out.println(\"A smaller matrix (imaginary part): \" + imaginarySubMatrix.contentToString());\n",
    "\n",
    "array.slice(\"1:3\", \"1:3\").copyFrom(realSubMatrix, imaginarySubMatrix);\n",
    "System.out.println(\"Original matrix after assigning the smaller matrix to its center: \" + array.contentToString());"
   ]
  },
  {
   "cell_type": "markdown",
   "id": "1aebe51a-4e41-4794-8bc2-1d593ac69340",
   "metadata": {},
   "source": [
    "### Complex arithmetics\n",
    "\n",
    "All arithmetical functions (add, addInplace, multiply, multiplyInplace works, of course, for complex NDArrays).  \n",
    "Additionally there are 4 complex-related functions:"
   ]
  },
  {
   "cell_type": "code",
   "execution_count": 164,
   "id": "f534b4da-33ba-4506-a336-3c573f33eed3",
   "metadata": {},
   "outputs": [
    {
     "name": "stdout",
     "output_type": "stream",
     "text": [
      "Original matrix: basic NDArray<Complex Double>(4 × 4)\n",
      "0,00000e+00+0,00000e+00i\t4,00000e+00+8,00000e+00i\t8,00000e+00+1,60000e+01i\t1,20000e+01+2,40000e+01i\t\n",
      "1,00000e+00+2,00000e+00i\t5,00000e+00+1,00000e+01i\t9,00000e+00+1,80000e+01i\t1,30000e+01+2,60000e+01i\t\n",
      "2,00000e+00+4,00000e+00i\t6,00000e+00+1,20000e+01i\t1,00000e+01+2,00000e+01i\t1,40000e+01+2,80000e+01i\t\n",
      "3,00000e+00+6,00000e+00i\t7,00000e+00+1,40000e+01i\t1,10000e+01+2,20000e+01i\t1,50000e+01+3,00000e+01i\t\n",
      "\n",
      "Magnitude: basic NDArray<Double>(4 × 4)\n",
      "0,00000e+00\t8,94427e+00\t1,78885e+01\t2,68328e+01\t\n",
      "2,23607e+00\t1,11803e+01\t2,01246e+01\t2,90689e+01\t\n",
      "4,47214e+00\t1,34164e+01\t2,23607e+01\t3,13050e+01\t\n",
      "6,70820e+00\t1,56525e+01\t2,45967e+01\t3,35410e+01\t\n",
      "\n",
      "Phase/Argument: basic NDArray<Double>(4 × 4)\n",
      "0,00000e+00\t1,10715e+00\t1,10715e+00\t1,10715e+00\t\n",
      "1,10715e+00\t1,10715e+00\t1,10715e+00\t1,10715e+00\t\n",
      "1,10715e+00\t1,10715e+00\t1,10715e+00\t1,10715e+00\t\n",
      "1,10715e+00\t1,10715e+00\t1,10715e+00\t1,10715e+00\t\n",
      "\n",
      "Real part: basic NDArray<Double>(4 × 4)\n",
      "0,00000e+00\t4,00000e+00\t8,00000e+00\t1,20000e+01\t\n",
      "1,00000e+00\t5,00000e+00\t9,00000e+00\t1,30000e+01\t\n",
      "2,00000e+00\t6,00000e+00\t1,00000e+01\t1,40000e+01\t\n",
      "3,00000e+00\t7,00000e+00\t1,10000e+01\t1,50000e+01\t\n",
      "\n",
      "Imaginary part: basic NDArray<Double>(4 × 4)\n",
      "0,00000e+00\t8,00000e+00\t1,60000e+01\t2,40000e+01\t\n",
      "2,00000e+00\t1,00000e+01\t1,80000e+01\t2,60000e+01\t\n",
      "4,00000e+00\t1,20000e+01\t2,00000e+01\t2,80000e+01\t\n",
      "6,00000e+00\t1,40000e+01\t2,20000e+01\t3,00000e+01\t\n",
      "\n"
     ]
    }
   ],
   "source": [
    ">java\n",
    "ComplexNDArray<Double> array = new BasicComplexDoubleNDArray(4, 4).fillUsingLinearIndices(i -> new Complex(i, i * 2));\n",
    "System.out.println(\"Original matrix: \" + array.contentToString());\n",
    "System.out.println(\"Magnitude: \" + array.abs().contentToString());\n",
    "System.out.println(\"Phase/Argument: \" + array.argument().contentToString());\n",
    "System.out.println(\"Real part: \" + array.real().contentToString());\n",
    "System.out.println(\"Imaginary part: \" + array.imaginary().contentToString());"
   ]
  },
  {
   "cell_type": "markdown",
   "id": "9e295cea-0c30-4f13-a435-ef2605c1af26",
   "metadata": {},
   "source": [
    "### Precision of data type\n",
    "\n",
    "Currently only single and double precision is supported (`Float` and `Double`). `dtype2()` can tell which precision is used by the given array."
   ]
  },
  {
   "cell_type": "code",
   "execution_count": 171,
   "id": "c1c06420-693e-40b8-8931-193534700342",
   "metadata": {},
   "outputs": [
    {
     "name": "stdout",
     "output_type": "stream",
     "text": [
      "Precision of BasicComplexFloatNDArray: Float\n",
      "Precision of BasicComplexDoubleNDArray: Double\n"
     ]
    }
   ],
   "source": [
    ">java\n",
    "import io.github.hakkelt.ndarrays.basic.BasicComplexFloatNDArray;\n",
    "\n",
    "System.out.println(\"Precision of BasicComplexFloatNDArray: \" + new BasicComplexFloatNDArray(4, 4).dtype2().getSimpleName());\n",
    "System.out.println(\"Precision of BasicComplexDoubleNDArray: \" + new BasicComplexDoubleNDArray(4, 4).dtype2().getSimpleName());"
   ]
  }
 ],
 "metadata": {
  "kernelspec": {
   "display_name": "All the Kernels",
   "language": "",
   "name": "atk"
  },
  "language_info": {
   "file_extension": ".jl",
   "mimetype": "application/julia",
   "name": "julia",
   "version": "1.7.2"
  }
 },
 "nbformat": 4,
 "nbformat_minor": 5
}
